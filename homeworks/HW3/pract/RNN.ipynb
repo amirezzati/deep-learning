{
  "cells": [
    {
      "cell_type": "markdown",
      "metadata": {
        "id": "I44zC-xvHlMA"
      },
      "source": [
        "# Initializatoin"
      ]
    },
    {
      "cell_type": "code",
      "execution_count": null,
      "metadata": {
        "id": "J51gwQryHLou"
      },
      "outputs": [],
      "source": [
        "from google.colab import drive\n",
        "drive.mount('/content/drive')"
      ]
    },
    {
      "cell_type": "code",
      "execution_count": null,
      "metadata": {
        "id": "dIEtvDuNHWaX"
      },
      "outputs": [],
      "source": [
        "cd /content/drive/MyDrive/DL/HW3"
      ]
    },
    {
      "cell_type": "code",
      "execution_count": 72,
      "metadata": {
        "id": "EOSQgoCpO5iL"
      },
      "outputs": [],
      "source": [
        "# download utils folder to access it from google colab\n",
        "!gdown 'https://drive.google.com/uc?export=download&id=1t-LPPmJc6gvK1-3t3g63MuU18lF3lln6' -q"
      ]
    },
    {
      "cell_type": "markdown",
      "metadata": {
        "id": "97npt38AHmeG"
      },
      "source": [
        "## Imports"
      ]
    },
    {
      "cell_type": "code",
      "execution_count": 73,
      "metadata": {
        "id": "6GV6VNwvHfAu"
      },
      "outputs": [],
      "source": [
        "import math\n",
        "import matplotlib.pyplot as plt\n",
        "import matplotlib.ticker as ticker\n",
        "import numpy as np\n",
        "import torch\n",
        "import torch.nn as nn\n",
        "import torch.nn.functional as F\n",
        "import torchvision.datasets as datasets\n",
        "import torchvision.transforms as transforms\n",
        "\n",
        "from torch.autograd import Variable\n",
        "from torch.nn import Parameter\n",
        "\n",
        "from name_dataset import Dataset"
      ]
    },
    {
      "cell_type": "markdown",
      "metadata": {
        "id": "LkG3yH-pHpM9"
      },
      "source": [
        "# RNN"
      ]
    },
    {
      "cell_type": "markdown",
      "metadata": {
        "id": "iZ0KcfjJISHg"
      },
      "source": [
        "## Traditional RNN"
      ]
    },
    {
      "cell_type": "markdown",
      "metadata": {
        "id": "Kg5D637YdXA3"
      },
      "source": [
        "In the introductory section, we delve into the architecture of Recurrent Neural Networks (RNNs) and elucidate their training methodologies. To gain a deeper understanding of RNNs, you're encouraged to explore further [HERE](https://stanford.edu/~shervine/teaching/cs-230/cheatsheet-recurrent-neural-network)\n",
        "\n",
        "For the task at hand, you've been furnished with the Names dataset, a compilation comprising thousands of surnames from 18 distinct languages of origin. Your objective is to prognosticate the language of origin for a given name, relying solely on its orthography. Your task primarily involves implementing the section demarcated by `#your_code`."
      ]
    },
    {
      "cell_type": "code",
      "execution_count": null,
      "metadata": {
        "colab": {
          "base_uri": "https://localhost:8080/"
        },
        "id": "HSphx1YaaNl0",
        "outputId": "3e932261-a0f5-410b-89c1-b9cfd03d4294"
      },
      "outputs": [
        {
          "name": "stdout",
          "output_type": "stream",
          "text": [
            "Error occurred while downloading data.zip: --2024-04-19 22:52:38--  https://download.pytorch.org/tutorial/data.zip\n",
            "Resolving download.pytorch.org (download.pytorch.org)... 18.160.143.101, 18.160.143.107, 18.160.143.21, ...\n",
            "Connecting to download.pytorch.org (download.pytorch.org)|18.160.143.101|:443... connected.\n",
            "HTTP request sent, awaiting response... 200 OK\n",
            "Length: 2882130 (2.7M) [application/zip]\n",
            "Saving to: ‘data.zip’\n",
            "\n",
            "     0K .......... .......... .......... .......... ..........  1% 3.91M 1s\n",
            "    50K .......... .......... .......... .......... ..........  3% 5.19M 1s\n",
            "   100K .......... .......... .......... .......... ..........  5% 10.4M 0s\n",
            "   150K .......... .......... .......... .......... ..........  7% 8.39M 0s\n",
            "   200K .......... .......... .......... .......... ..........  8% 14.2M 0s\n",
            "   250K .......... .......... .......... .......... .......... 10% 17.4M 0s\n",
            "   300K .......... .......... .......... .......... .......... 12% 17.9M 0s\n",
            "   350K .......... .......... .......... .......... .......... 14% 18.0M 0s\n",
            "   400K .......... .......... .......... .......... .......... 15% 37.8M 0s\n",
            "   450K .......... .......... .......... .......... .......... 17% 27.2M 0s\n",
            "   500K .......... .......... .......... .......... .......... 19% 29.1M 0s\n",
            "   550K .......... .......... .......... .......... .......... 21% 41.7M 0s\n",
            "   600K .......... .......... .......... .......... .......... 23% 34.3M 0s\n",
            "   650K .......... .......... .......... .......... .......... 24% 37.4M 0s\n",
            "   700K .......... .......... .......... .......... .......... 26% 32.0M 0s\n",
            "   750K .......... .......... .......... .......... .......... 28% 29.6M 0s\n",
            "   800K .......... .......... .......... .......... .......... 30% 67.7M 0s\n",
            "   850K .......... .......... .......... .......... .......... 31% 78.8M 0s\n",
            "   900K .......... .......... .......... .......... .......... 33% 70.1M 0s\n",
            "   950K .......... .......... .......... .......... .......... 35% 66.5M 0s\n",
            "  1000K .......... .......... .......... .......... .......... 37% 71.4M 0s\n",
            "  1050K .......... .......... .......... .......... .......... 39% 64.4M 0s\n",
            "  1100K .......... .......... .......... .......... .......... 40% 69.4M 0s\n",
            "  1150K .......... .......... .......... .......... .......... 42% 60.7M 0s\n",
            "  1200K .......... .......... .......... .......... .......... 44% 55.5M 0s\n",
            "  1250K .......... .......... .......... .......... .......... 46% 43.7M 0s\n",
            "  1300K .......... .......... .......... .......... .......... 47% 30.7M 0s\n",
            "  1350K .......... .......... .......... .......... .......... 49% 72.5M 0s\n",
            "  1400K .......... .......... .......... .......... .......... 51% 52.5M 0s\n",
            "  1450K .......... .......... .......... .......... .......... 53% 51.0M 0s\n",
            "  1500K .......... .......... .......... .......... .......... 55% 50.6M 0s\n",
            "  1550K .......... .......... .......... .......... .......... 56% 49.4M 0s\n",
            "  1600K .......... .......... .......... .......... .......... 58% 49.9M 0s\n",
            "  1650K .......... .......... .......... .......... .......... 60% 42.2M 0s\n",
            "  1700K .......... .......... .......... .......... .......... 62% 51.6M 0s\n",
            "  1750K .......... .......... .......... .......... .......... 63% 55.0M 0s\n",
            "  1800K .......... .......... .......... .......... .......... 65% 74.5M 0s\n",
            "  1850K .......... .......... .......... .......... .......... 67% 49.1M 0s\n",
            "  1900K .......... .......... .......... .......... .......... 69%  312M 0s\n",
            "  1950K .......... .......... .......... .......... .......... 71%  328M 0s\n",
            "  2000K .......... .......... .......... .......... .......... 72%  318M 0s\n",
            "  2050K .......... .......... .......... .......... .......... 74%  273M 0s\n",
            "  2100K .......... .......... .......... .......... .......... 76%  330M 0s\n",
            "  2150K .......... .......... .......... .......... .......... 78%  243M 0s\n",
            "  2200K .......... .......... .......... .......... .......... 79%  330M 0s\n",
            "  2250K .......... .......... .......... .......... .......... 81%  292M 0s\n",
            "  2300K .......... .......... .......... .......... .......... 83%  301M 0s\n",
            "  2350K .......... .......... .......... .......... .......... 85%  307M 0s\n",
            "  2400K .......... .......... .......... .......... .......... 87%  333M 0s\n",
            "  2450K .......... .......... .......... .......... .......... 88%  203M 0s\n",
            "  2500K .......... .......... .......... .......... .......... 90%  306M 0s\n",
            "  2550K .......... .......... .......... .......... .......... 92%  313M 0s\n",
            "  2600K .......... .......... .......... .......... .......... 94%  294M 0s\n",
            "  2650K .......... .......... .......... .......... .......... 95%  287M 0s\n",
            "  2700K .......... .......... .......... .......... .......... 97%  310M 0s\n",
            "  2750K .......... .......... .......... .......... .......... 99% 25.6M 0s\n",
            "  2800K .......... ....                                       100% 29.9M=0.08s\n",
            "\n",
            "2024-04-19 22:52:38 (34.1 MB/s) - ‘data.zip’ saved [2882130/2882130]\n",
            "\n",
            "\n",
            "Unzipped data.zip successfully.\n",
            "category = Portuguese - random name = Garcia\n",
            "category = English - random name = Daniells\n",
            "category = Italian - random name = Agosti\n",
            "category = Japanese - random name = Osaragi\n",
            "category = French - random name = De la fontaine\n",
            "category = Vietnamese - random name = Luong\n",
            "category = Portuguese - random name = Crespo\n",
            "category = Polish - random name = Dziedzic\n",
            "category = Korean - random name = Seo\n",
            "category = English - random name = Eggby\n"
          ]
        }
      ],
      "source": [
        "dataset = Dataset()\n",
        "for i in range(10):\n",
        "    category, line, _, _ = dataset.randomTrainingExample()\n",
        "    print('category =', category, '- random name =', line)"
      ]
    },
    {
      "cell_type": "code",
      "execution_count": null,
      "metadata": {
        "id": "9Wusl6Uta5CY"
      },
      "outputs": [],
      "source": [
        "class RNN(nn.Module):\n",
        "    def __init__(self, input_size, hidden_size, output_size):\n",
        "        super(RNN, self).__init__()\n",
        "\n",
        "        #your_code\n",
        "        self.hidden_size = hidden_size\n",
        "        self.i2h = nn.Linear(input_size + hidden_size, hidden_size)\n",
        "        self.h2o = nn.Linear(hidden_size, output_size)\n",
        "        self.softmax = nn.LogSoftmax(dim=1)\n",
        "\n",
        "    def forward(self, input, hidden):\n",
        "\n",
        "        #your_code\n",
        "        combined = torch.cat((input, hidden), dim=1)\n",
        "        hidden = self.i2h(combined)\n",
        "        output = self.h2o(hidden)\n",
        "        output = self.softmax(output)\n",
        "        return output, hidden\n",
        "\n",
        "    def initHidden(self):\n",
        "        return torch.zeros(1, self.hidden_size)\n",
        "\n",
        "n_hidden = 128\n",
        "n_letters = dataset.n_letters\n",
        "n_categories = dataset.n_categories\n",
        "rnn = RNN(n_letters, n_hidden, n_categories)"
      ]
    },
    {
      "cell_type": "code",
      "execution_count": null,
      "metadata": {
        "id": "xlvoUSDFY-r7"
      },
      "outputs": [],
      "source": [
        "#your_code\n",
        "criterion = nn.NLLLoss()\n",
        "learning_rate = 0.001\n",
        "\n",
        "def train(category_tensor, name_tensor):\n",
        "    hidden = rnn.initHidden()\n",
        "    rnn.zero_grad()\n",
        "\n",
        "    #your_code\n",
        "    for i in range(name_tensor.size()[0]):\n",
        "        output, hidden = rnn(name_tensor[i], hidden)\n",
        "\n",
        "    loss = criterion(output, category_tensor)\n",
        "    loss.backward()\n",
        "\n",
        "    # Add parameters' gradients to their values, multiplied by learning rate\n",
        "    for p in rnn.parameters():\n",
        "        p.data.add_(p.grad.data, alpha=-learning_rate)\n",
        "\n",
        "    return output, loss.item()"
      ]
    },
    {
      "cell_type": "markdown",
      "metadata": {
        "id": "n6A3nYNgoVfZ"
      },
      "source": [
        "And here you can train your model and see it's performance after each 5000 iterations"
      ]
    },
    {
      "cell_type": "code",
      "execution_count": null,
      "metadata": {
        "colab": {
          "base_uri": "https://localhost:8080/",
          "height": 815
        },
        "id": "BIaxje6AsqKM",
        "outputId": "558826dc-e0e2-4a80-b11c-dbb41272d624"
      },
      "outputs": [
        {
          "name": "stdout",
          "output_type": "stream",
          "text": [
            "5000 5% 2.8247 Tojo is predicted as a \"Italian\" name, status = ✗ (Japanese)\n",
            "10000 10% 2.7900 Bueren is predicted as a \"Dutch\" name, status = ✓\n",
            "15000 15% 2.7722 Schenk is predicted as a \"Polish\" name, status = ✗ (Czech)\n",
            "20000 20% 2.6271 Login is predicted as a \"Irish\" name, status = ✓\n",
            "25000 25% 2.3883 Mcmahon is predicted as a \"Russian\" name, status = ✗ (Irish)\n",
            "30000 30% 2.5650 Cadman is predicted as a \"Arabic\" name, status = ✗ (English)\n",
            "35000 35% 2.6734 Klimes is predicted as a \"Portuguese\" name, status = ✗ (Czech)\n",
            "40000 40% 2.6563 Reid is predicted as a \"Korean\" name, status = ✗ (Scottish)\n",
            "45000 45% 2.0891 Mravin is predicted as a \"Irish\" name, status = ✗ (Russian)\n",
            "50000 50% 1.0800 Shin is predicted as a \"Chinese\" name, status = ✗ (Korean)\n",
            "55000 55% 1.6024 Emile is predicted as a \"French\" name, status = ✓\n",
            "60000 60% 2.0772 Kurtz is predicted as a \"Spanish\" name, status = ✗ (Czech)\n",
            "65000 65% 1.1300 Abrami is predicted as a \"Italian\" name, status = ✓\n",
            "70000 70% 1.8015 Kenzel is predicted as a \"Dutch\" name, status = ✗ (Czech)\n",
            "75000 75% 0.7249 Ferreiro is predicted as a \"Portuguese\" name, status = ✓\n",
            "80000 80% 1.4800 Talvik is predicted as a \"Czech\" name, status = ✗ (Russian)\n",
            "85000 85% 1.1516 Suenami is predicted as a \"Japanese\" name, status = ✓\n",
            "90000 90% 1.6584 Flores is predicted as a \"Portuguese\" name, status = ✗ (Spanish)\n",
            "95000 95% 1.9497 Bosco is predicted as a \"Spanish\" name, status = ✗ (Italian)\n",
            "100000 100% 0.5449 Kamo is predicted as a \"Japanese\" name, status = ✓\n"
          ]
        },
        {
          "data": {
            "text/plain": [
              "[<matplotlib.lines.Line2D at 0x7f1e0e30a440>]"
            ]
          },
          "execution_count": 7,
          "metadata": {},
          "output_type": "execute_result"
        },
        {
          "data": {
            "image/png": "[encoded data removed]",
            "text/plain": [
              "<Figure size 640x480 with 1 Axes>"
            ]
          },
          "metadata": {},
          "output_type": "display_data"
        }
      ],
      "source": [
        "n_iters = 100000\n",
        "print_every = 5000\n",
        "\n",
        "current_loss = 0\n",
        "all_losses = []\n",
        "\n",
        "for iter in range(1, n_iters + 1):\n",
        "    category, line, category_tensor, line_tensor = dataset.randomTrainingExample()\n",
        "    output, loss = train(category_tensor, line_tensor)\n",
        "    current_loss += loss\n",
        "\n",
        "    if iter % print_every == 0:\n",
        "        guess, _ = dataset.categoryFromOutput(output)\n",
        "        correct = '✓' if guess == category else '✗ (%s)' % category\n",
        "        print('%d %d%% %.4f %s is predicted as a \"%s\" name, status = %s' % (iter, iter / n_iters * 100, loss, line, guess, correct))\n",
        "\n",
        "    if iter % 1000 == 0:\n",
        "        all_losses.append(current_loss / 1000)\n",
        "        current_loss = 0\n",
        "\n",
        "plt.figure()\n",
        "plt.plot(all_losses)"
      ]
    },
    {
      "cell_type": "markdown",
      "metadata": {
        "id": "N3DfTyhGIF2P"
      },
      "source": [
        "## Traditional RNN Disadvantages"
      ]
    },
    {
      "cell_type": "markdown",
      "metadata": {
        "id": "RSBnM7WbNv_T"
      },
      "source": [
        "In this part, we aim to delve into the limitations of traditional RNNs:\n",
        "1.   Recurrent computation is slow\n",
        "2.   They have difficulty accessing information from many steps back.\n",
        "\n",
        "You are provided with a simple code that helps you to give the idea better. By modifying this code, you are able to demonstrate the mentioned disadvantages, but you are also free to change the code if needed or use any dataset you want.\n",
        "\n",
        "**Question:** Do you think using GPU instead of CPU completely solves the first problem?\n",
        "\n",
        "Note: The main goal of this part is to help you understand these problems better. Don't be too hard to implement and delivery."
      ]
    },
    {
      "cell_type": "code",
      "execution_count": null,
      "metadata": {
        "colab": {
          "base_uri": "https://localhost:8080/",
          "height": 624
        },
        "id": "Gmv3e7fpQiRD",
        "outputId": "8ac662d5-aebf-4aa0-e13f-1ae7e149e397"
      },
      "outputs": [
        {
          "name": "stdout",
          "output_type": "stream",
          "text": [
            "Epoch [10/100], Loss: 1.0032\n",
            "Epoch [20/100], Loss: 0.8939\n",
            "Epoch [30/100], Loss: 0.7861\n",
            "Epoch [40/100], Loss: 0.6786\n",
            "Epoch [50/100], Loss: 0.5723\n",
            "Epoch [60/100], Loss: 0.4690\n",
            "Epoch [70/100], Loss: 0.3719\n",
            "Epoch [80/100], Loss: 0.2852\n",
            "Epoch [90/100], Loss: 0.2129\n",
            "Epoch [100/100], Loss: 0.1572\n"
          ]
        },
        {
          "data": {
            "image/png": "[encoded data removed]",
            "text/plain": [
              "<Figure size 640x480 with 1 Axes>"
            ]
          },
          "metadata": {},
          "output_type": "display_data"
        }
      ],
      "source": [
        "import torch\n",
        "import torch.nn as nn\n",
        "import numpy as np\n",
        "import matplotlib.pyplot as plt\n",
        "\n",
        "# Generate sinusoidal temperature data with decreasing range over time\n",
        "np.random.seed(0)\n",
        "num_periods = 50\n",
        "timesteps_per_period = 10\n",
        "total_timesteps = num_periods * timesteps_per_period\n",
        "\n",
        "# Generate decreasing factor\n",
        "decreasing_factor = np.linspace(1, 0.1, total_timesteps)\n",
        "\n",
        "# Generate temperature data with decreasing sinusoidal range\n",
        "temperature_data = np.sin(np.linspace(0, 2*np.pi*num_periods, total_timesteps)) * decreasing_factor\n",
        "\n",
        "# Normalize the data\n",
        "temperature_data = (temperature_data - np.mean(temperature_data)) / np.std(temperature_data)\n",
        "\n",
        "# Convert numpy array to PyTorch tensor\n",
        "temperature_data = torch.tensor(temperature_data, dtype=torch.float32).view(-1, 1)\n",
        "\n",
        "# Define function to create dataset with sinusoidal pattern\n",
        "def create_dataset(data, seq_length):\n",
        "    X, Y = [], []\n",
        "    for i in range(len(data) - seq_length):\n",
        "        seq_in = data[i:i+seq_length]\n",
        "        seq_out = data[i+seq_length]\n",
        "        X.append(seq_in)\n",
        "        Y.append(seq_out)\n",
        "    return torch.stack(X), torch.stack(Y)\n",
        "\n",
        "# Define sequence length and create dataset\n",
        "sequence_length = 10  # Number of previous days to look at for prediction\n",
        "X, Y = create_dataset(temperature_data, sequence_length)\n",
        "\n",
        "# Split the dataset into train and test sets\n",
        "train_size = int(0.8 * len(X))\n",
        "test_size = len(X) - train_size\n",
        "X_train, X_test = X[:train_size], X[train_size:]\n",
        "Y_train, Y_test = Y[:train_size], Y[train_size:]\n",
        "\n",
        "# Define RNN model\n",
        "class SimpleRNN(nn.Module):\n",
        "    def __init__(self, input_size, hidden_size, output_size):\n",
        "        super(SimpleRNN, self).__init__()\n",
        "        self.rnn = nn.RNN(input_size, hidden_size, batch_first=True)\n",
        "        self.fc = nn.Linear(hidden_size, output_size)\n",
        "\n",
        "    def forward(self, x):\n",
        "        out, _ = self.rnn(x)\n",
        "        out = self.fc(out[:, -1, :])\n",
        "        return out\n",
        "\n",
        "# Define model parameters\n",
        "input_size = 1\n",
        "hidden_size = 10\n",
        "output_size = 1\n",
        "\n",
        "# Instantiate the model\n",
        "model = SimpleRNN(input_size, hidden_size, output_size)\n",
        "\n",
        "# Define loss function and optimizer\n",
        "criterion = nn.MSELoss()\n",
        "optimizer = torch.optim.Adam(model.parameters(), lr=0.001)\n",
        "\n",
        "# Train the model\n",
        "num_epochs = 100\n",
        "for epoch in range(num_epochs):\n",
        "    model.train()\n",
        "    outputs = model(X_train)\n",
        "    loss = criterion(outputs, Y_train)\n",
        "    optimizer.zero_grad()\n",
        "    loss.backward()\n",
        "    optimizer.step()\n",
        "\n",
        "    if (epoch+1) % 10 == 0:\n",
        "        print(f'Epoch [{epoch+1}/{num_epochs}], Loss: {loss.item():.4f}')\n",
        "\n",
        "# Evaluate the model\n",
        "model.eval()\n",
        "with torch.no_grad():\n",
        "    test_predictions = model(X_test)\n",
        "\n",
        "# Plot actual vs predicted\n",
        "plt.plot(Y_test.numpy(), label='Actual')\n",
        "plt.plot(test_predictions.numpy(), label='Predicted')\n",
        "plt.legend()\n",
        "plt.show()"
      ]
    },
    {
      "cell_type": "markdown",
      "metadata": {
        "id": "eOzchEUJ0k2E"
      },
      "source": [
        "# LSTM Preparation"
      ]
    },
    {
      "cell_type": "markdown",
      "metadata": {
        "id": "1BlfuzGF6jDM"
      },
      "source": [
        "Now that you have experience with traditional RNNs, it's time to implement the LSTM model. Your goal is to implement the cell and model for LSTM architecture. The proposed dataset for this section is MNIST, allowing you to focus solely on model implementation."
      ]
    },
    {
      "cell_type": "code",
      "execution_count": null,
      "metadata": {
        "colab": {
          "base_uri": "https://localhost:8080/"
        },
        "id": "FB_MpK06uB9G",
        "outputId": "0ebf448e-c579-4077-bf66-9219cd1482fe"
      },
      "outputs": [
        {
          "name": "stdout",
          "output_type": "stream",
          "text": [
            "Downloading http://yann.lecun.com/exdb/mnist/train-images-idx3-ubyte.gz\n",
            "Downloading http://yann.lecun.com/exdb/mnist/train-images-idx3-ubyte.gz to ./data/MNIST/raw/train-images-idx3-ubyte.gz\n"
          ]
        },
        {
          "name": "stderr",
          "output_type": "stream",
          "text": [
            "100%|██████████| 9912422/9912422 [00:00<00:00, 122891624.43it/s]\n"
          ]
        },
        {
          "name": "stdout",
          "output_type": "stream",
          "text": [
            "Extracting ./data/MNIST/raw/train-images-idx3-ubyte.gz to ./data/MNIST/raw\n",
            "\n",
            "Downloading http://yann.lecun.com/exdb/mnist/train-labels-idx1-ubyte.gz\n",
            "Downloading http://yann.lecun.com/exdb/mnist/train-labels-idx1-ubyte.gz to ./data/MNIST/raw/train-labels-idx1-ubyte.gz\n"
          ]
        },
        {
          "name": "stderr",
          "output_type": "stream",
          "text": [
            "100%|██████████| 28881/28881 [00:00<00:00, 41699034.02it/s]\n"
          ]
        },
        {
          "name": "stdout",
          "output_type": "stream",
          "text": [
            "Extracting ./data/MNIST/raw/train-labels-idx1-ubyte.gz to ./data/MNIST/raw\n",
            "\n",
            "Downloading http://yann.lecun.com/exdb/mnist/t10k-images-idx3-ubyte.gz\n",
            "Downloading http://yann.lecun.com/exdb/mnist/t10k-images-idx3-ubyte.gz to ./data/MNIST/raw/t10k-images-idx3-ubyte.gz\n"
          ]
        },
        {
          "name": "stderr",
          "output_type": "stream",
          "text": [
            "100%|██████████| 1648877/1648877 [00:00<00:00, 30301890.60it/s]\n"
          ]
        },
        {
          "name": "stdout",
          "output_type": "stream",
          "text": [
            "Extracting ./data/MNIST/raw/t10k-images-idx3-ubyte.gz to ./data/MNIST/raw\n",
            "\n",
            "Downloading http://yann.lecun.com/exdb/mnist/t10k-labels-idx1-ubyte.gz\n",
            "Downloading http://yann.lecun.com/exdb/mnist/t10k-labels-idx1-ubyte.gz to ./data/MNIST/raw/t10k-labels-idx1-ubyte.gz\n"
          ]
        },
        {
          "name": "stderr",
          "output_type": "stream",
          "text": [
            "100%|██████████| 4542/4542 [00:00<00:00, 4432417.12it/s]\n"
          ]
        },
        {
          "name": "stdout",
          "output_type": "stream",
          "text": [
            "Extracting ./data/MNIST/raw/t10k-labels-idx1-ubyte.gz to ./data/MNIST/raw\n",
            "\n"
          ]
        }
      ],
      "source": [
        "train_dataset = datasets.MNIST(root='./data',\n",
        "                               train=True,\n",
        "                               transform=transforms.ToTensor(),\n",
        "                               download=True)\n",
        "\n",
        "test_dataset = datasets.MNIST(root='./data',\n",
        "                              train=False,\n",
        "                              transform=transforms.ToTensor())\n",
        "\n",
        "batch_size = 128\n",
        "n_iters = 6000\n",
        "num_epochs = int(n_iters / (len(train_dataset) / batch_size))"
      ]
    },
    {
      "cell_type": "code",
      "execution_count": null,
      "metadata": {
        "id": "oen0qO_nuLks"
      },
      "outputs": [],
      "source": [
        "train_loader = torch.utils.data.DataLoader(dataset=train_dataset,\n",
        "                                           batch_size=batch_size,\n",
        "                                           shuffle=True)\n",
        "\n",
        "test_loader = torch.utils.data.DataLoader(dataset=test_dataset,\n",
        "                                          batch_size=batch_size,\n",
        "                                          shuffle=False)"
      ]
    },
    {
      "cell_type": "markdown",
      "metadata": {
        "id": "9033G0tvJnjk"
      },
      "source": [
        "## LSTM Cells"
      ]
    },
    {
      "cell_type": "code",
      "execution_count": null,
      "metadata": {
        "id": "5Lp0K-CCxgPn"
      },
      "outputs": [],
      "source": [
        "class LSTMCell(nn.Module):\n",
        "    def __init__(self, input_size, hidden_size, bias=True):\n",
        "        super(LSTMCell, self).__init__()\n",
        "        self.input_size = input_size\n",
        "        self.hidden_size = hidden_size\n",
        "        self.bias = bias\n",
        "\n",
        "        self.xh = nn.Linear(input_size, hidden_size * 4, bias=bias)\n",
        "        self.hh = nn.Linear(hidden_size, hidden_size * 4, bias=bias)\n",
        "        self.reset_parameters()\n",
        "\n",
        "    def reset_parameters(self):\n",
        "        std = 1.0 / np.sqrt(self.hidden_size)\n",
        "        for w in self.parameters():\n",
        "            w.data.uniform_(-std, std)\n",
        "\n",
        "    def forward(self, input, hx=None):\n",
        "\n",
        "        # Inputs:\n",
        "        #       input: (batch_size, input_size)\n",
        "        #       hx: (batch_size, hidden_size)\n",
        "        # Outputs:\n",
        "        #       hy: (batch_size, hidden_size)\n",
        "        #       cy: (batch_size, hidden_size)\n",
        "\n",
        "        if hx is None:\n",
        "            hx = Variable(input.new_zeros(input.size(0), self.hidden_size))\n",
        "            hx = (hx, hx)\n",
        "\n",
        "        hx, cx = hx\n",
        "\n",
        "        # your code\n",
        "        gates = self.xh(input) + self.hh(hx)\n",
        "        input_gate, forget_gate, cell_gate, output_gate = gates.chunk(4, 1)\n",
        "\n",
        "        i_t = torch.sigmoid(input_gate)\n",
        "        f_t = torch.sigmoid(forget_gate)\n",
        "        g_t = torch.tanh(cell_gate)\n",
        "        o_t = torch.sigmoid(output_gate)\n",
        "\n",
        "        cy = cx * f_t + i_t * g_t\n",
        "        hy = o_t * torch.tanh(cy)\n",
        "\n",
        "        return (hy, cy)"
      ]
    },
    {
      "cell_type": "markdown",
      "metadata": {
        "id": "iTxgK6zgKgYs"
      },
      "source": [
        "## LSTM Models"
      ]
    },
    {
      "cell_type": "code",
      "execution_count": null,
      "metadata": {
        "id": "g75EeAJauUzn"
      },
      "outputs": [],
      "source": [
        "class LSTMModel(nn.Module):\n",
        "    def __init__(self, input_dim, hidden_dim, layer_dim, output_dim):\n",
        "        super(LSTMModel, self).__init__()\n",
        "\n",
        "        self.hidden_dim = hidden_dim\n",
        "        self.layer_dim = layer_dim\n",
        "\n",
        "        self.lstm = LSTMCell(input_dim, hidden_dim, layer_dim)\n",
        "\n",
        "        self.fc = nn.Linear(hidden_dim, output_dim)\n",
        "\n",
        "\n",
        "\n",
        "    def forward(self, x):\n",
        "\n",
        "        # Initialize hidden state with zeros\n",
        "        h0 = Variable(torch.zeros(self.layer_dim, x.size(0), self.hidden_dim)).to(x.device)\n",
        "        c0 = Variable(torch.zeros(self.layer_dim, x.size(0), self.hidden_dim)).to(x.device)\n",
        "\n",
        "        cn = c0[0,:,:]\n",
        "        hn = h0[0,:,:]\n",
        "        outs = []\n",
        "\n",
        "        for seq in range(x.size(1)):\n",
        "            # your code\n",
        "            hn, cn = self.lstm(x[:,seq,:], (hn,cn))\n",
        "            outs.append(hn)\n",
        "\n",
        "        #your code\n",
        "        out = outs[-1].squeeze()\n",
        "        out = self.fc(out)\n",
        "\n",
        "        return out"
      ]
    },
    {
      "cell_type": "code",
      "execution_count": null,
      "metadata": {
        "id": "QMOEeZZiuWxS"
      },
      "outputs": [],
      "source": [
        "input_dim = 28\n",
        "hidden_dim = 128\n",
        "layer_dim = 1  # ONLY 1 OR 2\n",
        "output_dim = 10\n",
        "\n",
        "# your code\n",
        "model = LSTMModel(input_dim, hidden_dim, layer_dim, output_dim)\n",
        "device = 'cuda' if torch.cuda.is_available() else 'cpu'\n",
        "model.to(device)\n",
        "\n",
        "learning_rate = 0.01\n",
        "criterion = nn.CrossEntropyLoss()\n",
        "optimizer = torch.optim.Adam(model.parameters(), lr=learning_rate)"
      ]
    },
    {
      "cell_type": "code",
      "execution_count": null,
      "metadata": {
        "colab": {
          "base_uri": "https://localhost:8080/"
        },
        "id": "JIENTkLStZT1",
        "outputId": "8f9509ec-7b8f-4eec-f75b-ea4c7928b1b9"
      },
      "outputs": [
        {
          "name": "stdout",
          "output_type": "stream",
          "text": [
            "Iteration 500 - Test Loss: 0.0000000 - Test Accuracy: 96.5500\n",
            "Iteration 1000 - Test Loss: 0.0000000 - Test Accuracy: 98.0500\n",
            "Iteration 1500 - Test Loss: 0.0000000 - Test Accuracy: 98.3900\n",
            "Iteration 2000 - Test Loss: 0.0000000 - Test Accuracy: 98.0100\n",
            "Iteration 2500 - Test Loss: 0.0000000 - Test Accuracy: 98.3700\n",
            "Iteration 3000 - Test Loss: 0.0000000 - Test Accuracy: 98.1200\n",
            "Iteration 3500 - Test Loss: 0.0000000 - Test Accuracy: 98.2600\n",
            "Iteration 4000 - Test Loss: 0.0000000 - Test Accuracy: 98.5000\n",
            "Iteration 4500 - Test Loss: 0.0000000 - Test Accuracy: 98.5300\n",
            "Iteration 5000 - Test Loss: 0.0000000 - Test Accuracy: 98.0900\n",
            "Iteration 5500 - Test Loss: 0.0000000 - Test Accuracy: 98.0300\n"
          ]
        }
      ],
      "source": [
        "# your code\n",
        "\n",
        "# Train model and print Loss and Accuracy on Test Dataset after each 500 iterations\n",
        "\n",
        "best_val_loss = float('inf')\n",
        "best_val_acc = 0\n",
        "\n",
        "losses = []\n",
        "iter = 0\n",
        "\n",
        "for epoch in range(num_epochs):\n",
        "    running_loss = 0.0\n",
        "\n",
        "    for batch_idx, (inputs, targets) in enumerate(train_loader):\n",
        "      inputs, targets = inputs.view(-1, input_dim, input_dim).to(device), targets.to(device)\n",
        "\n",
        "      # zero the parameter gradients\n",
        "      optimizer.zero_grad()\n",
        "\n",
        "      # forward\n",
        "      outputs = model(inputs)\n",
        "      _, preds = torch.max(outputs, 1)\n",
        "      loss = criterion(outputs, targets)\n",
        "\n",
        "\n",
        "      loss.backward()\n",
        "      optimizer.step()\n",
        "\n",
        "      # statistics\n",
        "      running_loss += loss.item()\n",
        "\n",
        "      iter += 1\n",
        "      if iter % 500 == 0:\n",
        "        model.eval()\n",
        "        test_running_loss = 0\n",
        "        correct = 0\n",
        "        total = 0\n",
        "        with torch.no_grad():\n",
        "            for batch_idx, (inputs, targets) in enumerate(test_loader):\n",
        "                inputs, targets = inputs.view(-1, 28, input_dim).to(device), targets.to(device)\n",
        "                outputs = model(inputs)\n",
        "                test_loss = criterion(outputs, targets)\n",
        "\n",
        "                running_loss += test_loss.item()\n",
        "                _, predicted = outputs.max(1)\n",
        "                total += targets.size(0)\n",
        "                correct += predicted.eq(targets).sum().item()\n",
        "\n",
        "        test_loss = test_running_loss / len(test_loader)\n",
        "        accuracy = 100. * correct/total\n",
        "\n",
        "        print(f'Iteration {iter} - '\n",
        "          f'Test Loss: {test_loss:.7f} - '\n",
        "          f'Test Accuracy: {accuracy:.4f}')\n",
        "\n",
        "\n",
        "    train_loss = running_loss / len(train_loader)\n",
        "    losses.append(train_loss)"
      ]
    },
    {
      "cell_type": "markdown",
      "metadata": {
        "id": "yO8aLb1_NN65"
      },
      "source": [
        "# Sentiment Analysis"
      ]
    },
    {
      "cell_type": "markdown",
      "metadata": {
        "id": "2G_TeIlFNTeR"
      },
      "source": [
        "Now you are ready to face a real-world problem. In this task, we want you to do a sentiment analysis on the [IMDB dataset](https://www.kaggle.com/datasets/lakshmi25npathi/imdb-dataset-of-50k-movie-reviews). The main goal is to reach more than an acceptable accuracy of **75%** on LSTM model. You are free to use torch.nn.LSTM to design your architecture, but you must prepare the IMDB dataset on your own."
      ]
    },
    {
      "cell_type": "code",
      "execution_count": 1,
      "metadata": {
        "id": "_twmS27Y8C3F"
      },
      "outputs": [],
      "source": [
        "import pandas as pd\n",
        "import numpy as np"
      ]
    },
    {
      "cell_type": "code",
      "execution_count": 2,
      "metadata": {
        "colab": {
          "base_uri": "https://localhost:8080/"
        },
        "id": "3ysFWpYw-4bq",
        "outputId": "42345f98-102c-44b9-b6b3-f78d8738c45f"
      },
      "outputs": [
        {
          "output_type": "stream",
          "name": "stderr",
          "text": [
            "[nltk_data] Downloading package stopwords to /root/nltk_data...\n",
            "[nltk_data]   Unzipping corpora/stopwords.zip.\n",
            "[nltk_data] Downloading package punkt to /root/nltk_data...\n",
            "[nltk_data]   Unzipping tokenizers/punkt.zip.\n"
          ]
        },
        {
          "output_type": "execute_result",
          "data": {
            "text/plain": [
              "True"
            ]
          },
          "metadata": {},
          "execution_count": 2
        }
      ],
      "source": [
        "import nltk, re\n",
        "from nltk import word_tokenize\n",
        "import string\n",
        "from nltk.tokenize import sent_tokenize\n",
        "from nltk.probability import FreqDist\n",
        "from bs4 import BeautifulSoup\n",
        "\n",
        "nltk.download('stopwords')\n",
        "nltk.download('punkt')"
      ]
    },
    {
      "cell_type": "markdown",
      "metadata": {
        "id": "xgTTADAM6E1U"
      },
      "source": [
        "## Retrieve IMDB dataset from kaggle"
      ]
    },
    {
      "cell_type": "code",
      "execution_count": 3,
      "metadata": {
        "colab": {
          "base_uri": "https://localhost:8080/"
        },
        "id": "Mc9mCaNP0VU_",
        "outputId": "7e3b0fa2-9dcd-41ad-d6be-39f1f58a18ee"
      },
      "outputs": [
        {
          "output_type": "stream",
          "name": "stdout",
          "text": [
            "Requirement already satisfied: kaggle in /usr/local/lib/python3.10/dist-packages (1.5.16)\n",
            "Requirement already satisfied: six>=1.10 in /usr/local/lib/python3.10/dist-packages (from kaggle) (1.16.0)\n",
            "Requirement already satisfied: certifi in /usr/local/lib/python3.10/dist-packages (from kaggle) (2024.2.2)\n",
            "Requirement already satisfied: python-dateutil in /usr/local/lib/python3.10/dist-packages (from kaggle) (2.8.2)\n",
            "Requirement already satisfied: requests in /usr/local/lib/python3.10/dist-packages (from kaggle) (2.31.0)\n",
            "Requirement already satisfied: tqdm in /usr/local/lib/python3.10/dist-packages (from kaggle) (4.66.2)\n",
            "Requirement already satisfied: python-slugify in /usr/local/lib/python3.10/dist-packages (from kaggle) (8.0.4)\n",
            "Requirement already satisfied: urllib3 in /usr/local/lib/python3.10/dist-packages (from kaggle) (2.0.7)\n",
            "Requirement already satisfied: bleach in /usr/local/lib/python3.10/dist-packages (from kaggle) (6.1.0)\n",
            "Requirement already satisfied: webencodings in /usr/local/lib/python3.10/dist-packages (from bleach->kaggle) (0.5.1)\n",
            "Requirement already satisfied: text-unidecode>=1.3 in /usr/local/lib/python3.10/dist-packages (from python-slugify->kaggle) (1.3)\n",
            "Requirement already satisfied: charset-normalizer<4,>=2 in /usr/local/lib/python3.10/dist-packages (from requests->kaggle) (3.3.2)\n",
            "Requirement already satisfied: idna<4,>=2.5 in /usr/local/lib/python3.10/dist-packages (from requests->kaggle) (3.7)\n"
          ]
        }
      ],
      "source": [
        "import json\n",
        "! pip install kaggle\n",
        "! mkdir -p ~/.kaggle\n",
        "# create kaggale.json file\n",
        "json.dump({\"username\":\"amirezzati\",\"key\":\"4d65356739140baf23a980a8b7462c9f\"}, open('kaggle.json', 'w'))\n",
        "! mv ./kaggle.json ~/.kaggle/\n",
        "! chmod 600 /root/.kaggle/kaggle.json"
      ]
    },
    {
      "cell_type": "code",
      "execution_count": 4,
      "metadata": {
        "colab": {
          "base_uri": "https://localhost:8080/"
        },
        "id": "OpTHVv1Y1e3_",
        "outputId": "e2beb8a3-6fcc-4bc4-d13c-7215da58ed0d"
      },
      "outputs": [
        {
          "output_type": "stream",
          "name": "stdout",
          "text": [
            "Downloading imdb-dataset-of-50k-movie-reviews.zip to /content\n",
            " 97% 25.0M/25.7M [00:02<00:00, 21.8MB/s]\n",
            "100% 25.7M/25.7M [00:02<00:00, 12.3MB/s]\n"
          ]
        }
      ],
      "source": [
        "! kaggle datasets download -d lakshmi25npathi/imdb-dataset-of-50k-movie-reviews"
      ]
    },
    {
      "cell_type": "code",
      "execution_count": 5,
      "metadata": {
        "colab": {
          "base_uri": "https://localhost:8080/"
        },
        "id": "vryn3yL357X6",
        "outputId": "18e115be-dec4-45ac-98e8-5ee2fe5109d1"
      },
      "outputs": [
        {
          "output_type": "stream",
          "name": "stdout",
          "text": [
            "Archive:  ./imdb-dataset-of-50k-movie-reviews.zip\n",
            "  inflating: IMDB Dataset.csv        \n"
          ]
        }
      ],
      "source": [
        "!unzip ./imdb-dataset-of-50k-movie-reviews.zip"
      ]
    },
    {
      "cell_type": "markdown",
      "metadata": {
        "id": "i_15Nsb58HvI"
      },
      "source": [
        "## Preprocessing"
      ]
    },
    {
      "cell_type": "code",
      "execution_count": 6,
      "metadata": {
        "colab": {
          "base_uri": "https://localhost:8080/",
          "height": 226
        },
        "id": "9QKmWjlv7rP6",
        "outputId": "d0e4a94b-a320-46c5-98b1-a451b9700071"
      },
      "outputs": [
        {
          "output_type": "execute_result",
          "data": {
            "text/plain": [
              "                                              review sentiment\n",
              "0  One of the other reviewers has mentioned that ...  positive\n",
              "1  A wonderful little production. <br /><br />The...  positive\n",
              "2  I thought this was a wonderful way to spend ti...  positive\n",
              "3  Basically there's a family where a little boy ...  negative\n",
              "4  Petter Mattei's \"Love in the Time of Money\" is...  positive"
            ],
            "text/html": [
              "\n",
              "  <div id=\"df-b3bc73af-8330-4405-a071-1089f888f5ef\" class=\"colab-df-container\">\n",
              "    <div>\n",
              "<style scoped>\n",
              "    .dataframe tbody tr th:only-of-type {\n",
              "        vertical-align: middle;\n",
              "    }\n",
              "\n",
              "    .dataframe tbody tr th {\n",
              "        vertical-align: top;\n",
              "    }\n",
              "\n",
              "    .dataframe thead th {\n",
              "        text-align: right;\n",
              "    }\n",
              "</style>\n",
              "<table border=\"1\" class=\"dataframe\">\n",
              "  <thead>\n",
              "    <tr style=\"text-align: right;\">\n",
              "      <th></th>\n",
              "      <th>review</th>\n",
              "      <th>sentiment</th>\n",
              "    </tr>\n",
              "  </thead>\n",
              "  <tbody>\n",
              "    <tr>\n",
              "      <th>0</th>\n",
              "      <td>One of the other reviewers has mentioned that ...</td>\n",
              "      <td>positive</td>\n",
              "    </tr>\n",
              "    <tr>\n",
              "      <th>1</th>\n",
              "      <td>A wonderful little production. &lt;br /&gt;&lt;br /&gt;The...</td>\n",
              "      <td>positive</td>\n",
              "    </tr>\n",
              "    <tr>\n",
              "      <th>2</th>\n",
              "      <td>I thought this was a wonderful way to spend ti...</td>\n",
              "      <td>positive</td>\n",
              "    </tr>\n",
              "    <tr>\n",
              "      <th>3</th>\n",
              "      <td>Basically there's a family where a little boy ...</td>\n",
              "      <td>negative</td>\n",
              "    </tr>\n",
              "    <tr>\n",
              "      <th>4</th>\n",
              "      <td>Petter Mattei's \"Love in the Time of Money\" is...</td>\n",
              "      <td>positive</td>\n",
              "    </tr>\n",
              "  </tbody>\n",
              "</table>\n",
              "</div>\n",
              "    <div class=\"colab-df-buttons\">\n",
              "\n",
              "  <div class=\"colab-df-container\">\n",
              "    <button class=\"colab-df-convert\" onclick=\"convertToInteractive('df-b3bc73af-8330-4405-a071-1089f888f5ef')\"\n",
              "            title=\"Convert this dataframe to an interactive table.\"\n",
              "            style=\"display:none;\">\n",
              "\n",
              "  <svg xmlns=\"http://www.w3.org/2000/svg\" height=\"24px\" viewBox=\"0 -960 960 960\">\n",
              "    <path d=\"M120-120v-720h720v720H120Zm60-500h600v-160H180v160Zm220 220h160v-160H400v160Zm0 220h160v-160H400v160ZM180-400h160v-160H180v160Zm440 0h160v-160H620v160ZM180-180h160v-160H180v160Zm440 0h160v-160H620v160Z\"/>\n",
              "  </svg>\n",
              "    </button>\n",
              "\n",
              "  <style>\n",
              "    .colab-df-container {\n",
              "      display:flex;\n",
              "      gap: 12px;\n",
              "    }\n",
              "\n",
              "    .colab-df-convert {\n",
              "      background-color: #E8F0FE;\n",
              "      border: none;\n",
              "      border-radius: 50%;\n",
              "      cursor: pointer;\n",
              "      display: none;\n",
              "      fill: #1967D2;\n",
              "      height: 32px;\n",
              "      padding: 0 0 0 0;\n",
              "      width: 32px;\n",
              "    }\n",
              "\n",
              "    .colab-df-convert:hover {\n",
              "      background-color: #E2EBFA;\n",
              "      box-shadow: 0px 1px 2px rgba(60, 64, 67, 0.3), 0px 1px 3px 1px rgba(60, 64, 67, 0.15);\n",
              "      fill: #174EA6;\n",
              "    }\n",
              "\n",
              "    .colab-df-buttons div {\n",
              "      margin-bottom: 4px;\n",
              "    }\n",
              "\n",
              "    [theme=dark] .colab-df-convert {\n",
              "      background-color: #3B4455;\n",
              "      fill: #D2E3FC;\n",
              "    }\n",
              "\n",
              "    [theme=dark] .colab-df-convert:hover {\n",
              "      background-color: #434B5C;\n",
              "      box-shadow: 0px 1px 3px 1px rgba(0, 0, 0, 0.15);\n",
              "      filter: drop-shadow(0px 1px 2px rgba(0, 0, 0, 0.3));\n",
              "      fill: #FFFFFF;\n",
              "    }\n",
              "  </style>\n",
              "\n",
              "    <script>\n",
              "      const buttonEl =\n",
              "        document.querySelector('#df-b3bc73af-8330-4405-a071-1089f888f5ef button.colab-df-convert');\n",
              "      buttonEl.style.display =\n",
              "        google.colab.kernel.accessAllowed ? 'block' : 'none';\n",
              "\n",
              "      async function convertToInteractive(key) {\n",
              "        const element = document.querySelector('#df-b3bc73af-8330-4405-a071-1089f888f5ef');\n",
              "        const dataTable =\n",
              "          await google.colab.kernel.invokeFunction('convertToInteractive',\n",
              "                                                    [key], {});\n",
              "        if (!dataTable) return;\n",
              "\n",
              "        const docLinkHtml = 'Like what you see? Visit the ' +\n",
              "          '<a target=\"_blank\" href=https://colab.research.google.com/notebooks/data_table.ipynb>data table notebook</a>'\n",
              "          + ' to learn more about interactive tables.';\n",
              "        element.innerHTML = '';\n",
              "        dataTable['output_type'] = 'display_data';\n",
              "        await google.colab.output.renderOutput(dataTable, element);\n",
              "        const docLink = document.createElement('div');\n",
              "        docLink.innerHTML = docLinkHtml;\n",
              "        element.appendChild(docLink);\n",
              "      }\n",
              "    </script>\n",
              "  </div>\n",
              "\n",
              "\n",
              "<div id=\"df-edf6fbcd-de46-4ef2-a472-4c1bf66670f1\">\n",
              "  <button class=\"colab-df-quickchart\" onclick=\"quickchart('df-edf6fbcd-de46-4ef2-a472-4c1bf66670f1')\"\n",
              "            title=\"Suggest charts\"\n",
              "            style=\"display:none;\">\n",
              "\n",
              "<svg xmlns=\"http://www.w3.org/2000/svg\" height=\"24px\"viewBox=\"0 0 24 24\"\n",
              "     width=\"24px\">\n",
              "    <g>\n",
              "        <path d=\"M19 3H5c-1.1 0-2 .9-2 2v14c0 1.1.9 2 2 2h14c1.1 0 2-.9 2-2V5c0-1.1-.9-2-2-2zM9 17H7v-7h2v7zm4 0h-2V7h2v10zm4 0h-2v-4h2v4z\"/>\n",
              "    </g>\n",
              "</svg>\n",
              "  </button>\n",
              "\n",
              "<style>\n",
              "  .colab-df-quickchart {\n",
              "      --bg-color: #E8F0FE;\n",
              "      --fill-color: #1967D2;\n",
              "      --hover-bg-color: #E2EBFA;\n",
              "      --hover-fill-color: #174EA6;\n",
              "      --disabled-fill-color: #AAA;\n",
              "      --disabled-bg-color: #DDD;\n",
              "  }\n",
              "\n",
              "  [theme=dark] .colab-df-quickchart {\n",
              "      --bg-color: #3B4455;\n",
              "      --fill-color: #D2E3FC;\n",
              "      --hover-bg-color: #434B5C;\n",
              "      --hover-fill-color: #FFFFFF;\n",
              "      --disabled-bg-color: #3B4455;\n",
              "      --disabled-fill-color: #666;\n",
              "  }\n",
              "\n",
              "  .colab-df-quickchart {\n",
              "    background-color: var(--bg-color);\n",
              "    border: none;\n",
              "    border-radius: 50%;\n",
              "    cursor: pointer;\n",
              "    display: none;\n",
              "    fill: var(--fill-color);\n",
              "    height: 32px;\n",
              "    padding: 0;\n",
              "    width: 32px;\n",
              "  }\n",
              "\n",
              "  .colab-df-quickchart:hover {\n",
              "    background-color: var(--hover-bg-color);\n",
              "    box-shadow: 0 1px 2px rgba(60, 64, 67, 0.3), 0 1px 3px 1px rgba(60, 64, 67, 0.15);\n",
              "    fill: var(--button-hover-fill-color);\n",
              "  }\n",
              "\n",
              "  .colab-df-quickchart-complete:disabled,\n",
              "  .colab-df-quickchart-complete:disabled:hover {\n",
              "    background-color: var(--disabled-bg-color);\n",
              "    fill: var(--disabled-fill-color);\n",
              "    box-shadow: none;\n",
              "  }\n",
              "\n",
              "  .colab-df-spinner {\n",
              "    border: 2px solid var(--fill-color);\n",
              "    border-color: transparent;\n",
              "    border-bottom-color: var(--fill-color);\n",
              "    animation:\n",
              "      spin 1s steps(1) infinite;\n",
              "  }\n",
              "\n",
              "  @keyframes spin {\n",
              "    0% {\n",
              "      border-color: transparent;\n",
              "      border-bottom-color: var(--fill-color);\n",
              "      border-left-color: var(--fill-color);\n",
              "    }\n",
              "    20% {\n",
              "      border-color: transparent;\n",
              "      border-left-color: var(--fill-color);\n",
              "      border-top-color: var(--fill-color);\n",
              "    }\n",
              "    30% {\n",
              "      border-color: transparent;\n",
              "      border-left-color: var(--fill-color);\n",
              "      border-top-color: var(--fill-color);\n",
              "      border-right-color: var(--fill-color);\n",
              "    }\n",
              "    40% {\n",
              "      border-color: transparent;\n",
              "      border-right-color: var(--fill-color);\n",
              "      border-top-color: var(--fill-color);\n",
              "    }\n",
              "    60% {\n",
              "      border-color: transparent;\n",
              "      border-right-color: var(--fill-color);\n",
              "    }\n",
              "    80% {\n",
              "      border-color: transparent;\n",
              "      border-right-color: var(--fill-color);\n",
              "      border-bottom-color: var(--fill-color);\n",
              "    }\n",
              "    90% {\n",
              "      border-color: transparent;\n",
              "      border-bottom-color: var(--fill-color);\n",
              "    }\n",
              "  }\n",
              "</style>\n",
              "\n",
              "  <script>\n",
              "    async function quickchart(key) {\n",
              "      const quickchartButtonEl =\n",
              "        document.querySelector('#' + key + ' button');\n",
              "      quickchartButtonEl.disabled = true;  // To prevent multiple clicks.\n",
              "      quickchartButtonEl.classList.add('colab-df-spinner');\n",
              "      try {\n",
              "        const charts = await google.colab.kernel.invokeFunction(\n",
              "            'suggestCharts', [key], {});\n",
              "      } catch (error) {\n",
              "        console.error('Error during call to suggestCharts:', error);\n",
              "      }\n",
              "      quickchartButtonEl.classList.remove('colab-df-spinner');\n",
              "      quickchartButtonEl.classList.add('colab-df-quickchart-complete');\n",
              "    }\n",
              "    (() => {\n",
              "      let quickchartButtonEl =\n",
              "        document.querySelector('#df-edf6fbcd-de46-4ef2-a472-4c1bf66670f1 button');\n",
              "      quickchartButtonEl.style.display =\n",
              "        google.colab.kernel.accessAllowed ? 'block' : 'none';\n",
              "    })();\n",
              "  </script>\n",
              "</div>\n",
              "    </div>\n",
              "  </div>\n"
            ],
            "application/vnd.google.colaboratory.intrinsic+json": {
              "type": "dataframe",
              "variable_name": "dataset",
              "summary": "{\n  \"name\": \"dataset\",\n  \"rows\": 50000,\n  \"fields\": [\n    {\n      \"column\": \"review\",\n      \"properties\": {\n        \"dtype\": \"string\",\n        \"num_unique_values\": 49582,\n        \"samples\": [\n          \"\\\"Soul Plane\\\" is a horrible attempt at comedy that only should appeal people with thick skulls, bloodshot eyes and furry pawns. <br /><br />The plot is not only incoherent but also non-existent, acting is mostly sub sub-par with a gang of highly moronic and dreadful characters thrown in for bad measure, jokes are often spotted miles ahead and almost never even a bit amusing. This movie lacks any structure and is full of racial stereotypes that must have seemed old even in the fifties, the only thing it really has going for it is some pretty ladies, but really, if you want that you can rent something from the \\\"Adult\\\" section. OK?<br /><br />I can hardly see anything here to recommend since you'll probably have a lot a better and productive time chasing rats with a sledgehammer or inventing waterproof teabags or whatever.<br /><br />2/10\",\n          \"Guest from the Future tells a fascinating story of time travel, friendship, battle of good and evil -- all with a small budget, child actors, and few special effects. Something for Spielberg and Lucas to learn from. ;) A sixth-grader Kolya \\\"Nick\\\" Gerasimov finds a time machine in the basement of a decrepit building and travels 100 years into the future. He discovers a near-perfect, utopian society where robots play guitars and write poetry, everyone is kind to each other and people enjoy everything technology has to offer. Alice is the daughter of a prominent scientist who invented a device called Mielophone that allows to read minds of humans and animals. The device can be put to both good and bad use, depending on whose hands it falls into. When two evil space pirates from Saturn who want to rule the universe attempt to steal Mielophone, it falls into the hands of 20th century school boy Nick. With the pirates hot on his tracks, he travels back to his time, followed by the pirates, and Alice. Chaos, confusion and funny situations follow as the luckless pirates try to blend in with the earthlings. Alice enrolls in the same school Nick goes to and demonstrates superhuman abilities in PE class. The catch is, Alice doesn't know what Nick looks like, while the pirates do. Also, the pirates are able to change their appearance and turn literally into anyone. (Hmm, I wonder if this is where James Cameron got the idea for Terminator...) Who gets to Nick -- and Mielophone -- first? Excellent plot, non-stop adventures, and great soundtrack. I wish Hollywood made kid movies like this one...\",\n          \"\\\"National Treasure\\\" (2004) is a thoroughly misguided hodge-podge of plot entanglements that borrow from nearly every cloak and dagger government conspiracy clich\\u00e9 that has ever been written. The film stars Nicholas Cage as Benjamin Franklin Gates (how precious is that, I ask you?); a seemingly normal fellow who, for no other reason than being of a lineage of like-minded misguided fortune hunters, decides to steal a 'national treasure' that has been hidden by the United States founding fathers. After a bit of subtext and background that plays laughably (unintentionally) like Indiana Jones meets The Patriot, the film degenerates into one misguided whimsy after another \\u0096 attempting to create a 'Stanley Goodspeed' regurgitation of Nicholas Cage and launch the whole convoluted mess forward with a series of high octane, but disconnected misadventures.<br /><br />The relevancy and logic to having George Washington and his motley crew of patriots burying a king's ransom someplace on native soil, and then, going through the meticulous plan of leaving clues scattered throughout U.S. currency art work, is something that director Jon Turteltaub never quite gets around to explaining. Couldn't Washington found better usage for such wealth during the start up of the country? Hence, we are left with a mystery built on top of an enigma that is already on shaky ground by the time Ben appoints himself the new custodian of this untold wealth. Ben's intentions are noble \\u0096 if confusing. He's set on protecting the treasure. For who and when?\\u0085your guess is as good as mine.<br /><br />But there are a few problems with Ben's crusade. First up, his friend, Ian Holmes (Sean Bean) decides that he can't wait for Ben to make up his mind about stealing the Declaration of Independence from the National Archives (oh, yeah \\u0096 brilliant idea!). Presumably, the back of that famous document holds the secret answer to the ultimate fortune. So Ian tries to kill Ben. The assassination attempt is, of course, unsuccessful, if overly melodramatic. It also affords Ben the opportunity to pick up, and pick on, the very sultry curator of the archives, Abigail Chase (Diane Kruger). She thinks Ben is clearly a nut \\u0096 at least at the beginning. But true to action/romance form, Abby's resolve melts quicker than you can say, \\\"is that the Hope Diamond?\\\" The film moves into full X-File-ish mode, as the FBI, mistakenly believing that Ben is behind the theft, retaliate in various benign ways that lead to a multi-layering of action sequences reminiscent of Mission Impossible meets The Fugitive. Honestly, don't those guys ever get 'intelligence' information that is correct? In the final analysis, \\\"National Treasure\\\" isn't great film making, so much as it's a patchwork rehash of tired old bits from other movies, woven together from scraps, the likes of which would make IL' Betsy Ross blush.<br /><br />The Buena Vista DVD delivers a far more generous treatment than this film is deserving of. The anamorphic widescreen picture exhibits a very smooth and finely detailed image with very rich colors, natural flesh tones, solid blacks and clean whites. The stylized image is also free of blemishes and digital enhancements. The audio is 5.1 and delivers a nice sonic boom to your side and rear speakers with intensity and realism. Extras include a host of promotional junket material that is rather deep and over the top in its explanation of how and why this film was made. If only, as an audience, we had had more clarification as to why Ben and co. were chasing after an illusive treasure, this might have been one good flick. Extras conclude with the theatrical trailer, audio commentary and deleted scenes. Not for the faint-hearted \\u0096 just the thick-headed.\"\n        ],\n        \"semantic_type\": \"\",\n        \"description\": \"\"\n      }\n    },\n    {\n      \"column\": \"sentiment\",\n      \"properties\": {\n        \"dtype\": \"category\",\n        \"num_unique_values\": 2,\n        \"samples\": [\n          \"negative\",\n          \"positive\"\n        ],\n        \"semantic_type\": \"\",\n        \"description\": \"\"\n      }\n    }\n  ]\n}"
            }
          },
          "metadata": {},
          "execution_count": 6
        }
      ],
      "source": [
        "dataset = pd.read_csv('./IMDB Dataset.csv')\n",
        "dataset.head()"
      ]
    },
    {
      "cell_type": "code",
      "execution_count": 7,
      "metadata": {
        "colab": {
          "base_uri": "https://localhost:8080/"
        },
        "id": "h00XXp6k8J6E",
        "outputId": "69071dce-18cc-4114-db6b-bbd03ff6e7c8"
      },
      "outputs": [
        {
          "output_type": "execute_result",
          "data": {
            "text/plain": [
              "sentiment\n",
              "positive    25000\n",
              "negative    25000\n",
              "Name: count, dtype: int64"
            ]
          },
          "metadata": {},
          "execution_count": 7
        }
      ],
      "source": [
        "dataset['sentiment'].value_counts()"
      ]
    },
    {
      "cell_type": "code",
      "execution_count": 8,
      "metadata": {
        "id": "376PhNKw-HWA"
      },
      "outputs": [],
      "source": [
        "def encode_classes(class_):\n",
        "  return 1 if class_ == 'positive' else 0\n",
        "\n",
        "dataset['class'] = dataset['sentiment'].apply(encode_classes)"
      ]
    },
    {
      "cell_type": "code",
      "execution_count": 9,
      "metadata": {
        "colab": {
          "base_uri": "https://localhost:8080/",
          "height": 226
        },
        "id": "1PFiiVK--fEW",
        "outputId": "dbfa7c9e-d2b7-44bf-f0f2-b416c7ae5f1e"
      },
      "outputs": [
        {
          "output_type": "execute_result",
          "data": {
            "text/plain": [
              "                                              review sentiment  class\n",
              "0  One of the other reviewers has mentioned that ...  positive      1\n",
              "1  A wonderful little production. <br /><br />The...  positive      1\n",
              "2  I thought this was a wonderful way to spend ti...  positive      1\n",
              "3  Basically there's a family where a little boy ...  negative      0\n",
              "4  Petter Mattei's \"Love in the Time of Money\" is...  positive      1"
            ],
            "text/html": [
              "\n",
              "  <div id=\"df-0103fbcc-7642-4217-9c18-171a7faf943f\" class=\"colab-df-container\">\n",
              "    <div>\n",
              "<style scoped>\n",
              "    .dataframe tbody tr th:only-of-type {\n",
              "        vertical-align: middle;\n",
              "    }\n",
              "\n",
              "    .dataframe tbody tr th {\n",
              "        vertical-align: top;\n",
              "    }\n",
              "\n",
              "    .dataframe thead th {\n",
              "        text-align: right;\n",
              "    }\n",
              "</style>\n",
              "<table border=\"1\" class=\"dataframe\">\n",
              "  <thead>\n",
              "    <tr style=\"text-align: right;\">\n",
              "      <th></th>\n",
              "      <th>review</th>\n",
              "      <th>sentiment</th>\n",
              "      <th>class</th>\n",
              "    </tr>\n",
              "  </thead>\n",
              "  <tbody>\n",
              "    <tr>\n",
              "      <th>0</th>\n",
              "      <td>One of the other reviewers has mentioned that ...</td>\n",
              "      <td>positive</td>\n",
              "      <td>1</td>\n",
              "    </tr>\n",
              "    <tr>\n",
              "      <th>1</th>\n",
              "      <td>A wonderful little production. &lt;br /&gt;&lt;br /&gt;The...</td>\n",
              "      <td>positive</td>\n",
              "      <td>1</td>\n",
              "    </tr>\n",
              "    <tr>\n",
              "      <th>2</th>\n",
              "      <td>I thought this was a wonderful way to spend ti...</td>\n",
              "      <td>positive</td>\n",
              "      <td>1</td>\n",
              "    </tr>\n",
              "    <tr>\n",
              "      <th>3</th>\n",
              "      <td>Basically there's a family where a little boy ...</td>\n",
              "      <td>negative</td>\n",
              "      <td>0</td>\n",
              "    </tr>\n",
              "    <tr>\n",
              "      <th>4</th>\n",
              "      <td>Petter Mattei's \"Love in the Time of Money\" is...</td>\n",
              "      <td>positive</td>\n",
              "      <td>1</td>\n",
              "    </tr>\n",
              "  </tbody>\n",
              "</table>\n",
              "</div>\n",
              "    <div class=\"colab-df-buttons\">\n",
              "\n",
              "  <div class=\"colab-df-container\">\n",
              "    <button class=\"colab-df-convert\" onclick=\"convertToInteractive('df-0103fbcc-7642-4217-9c18-171a7faf943f')\"\n",
              "            title=\"Convert this dataframe to an interactive table.\"\n",
              "            style=\"display:none;\">\n",
              "\n",
              "  <svg xmlns=\"http://www.w3.org/2000/svg\" height=\"24px\" viewBox=\"0 -960 960 960\">\n",
              "    <path d=\"M120-120v-720h720v720H120Zm60-500h600v-160H180v160Zm220 220h160v-160H400v160Zm0 220h160v-160H400v160ZM180-400h160v-160H180v160Zm440 0h160v-160H620v160ZM180-180h160v-160H180v160Zm440 0h160v-160H620v160Z\"/>\n",
              "  </svg>\n",
              "    </button>\n",
              "\n",
              "  <style>\n",
              "    .colab-df-container {\n",
              "      display:flex;\n",
              "      gap: 12px;\n",
              "    }\n",
              "\n",
              "    .colab-df-convert {\n",
              "      background-color: #E8F0FE;\n",
              "      border: none;\n",
              "      border-radius: 50%;\n",
              "      cursor: pointer;\n",
              "      display: none;\n",
              "      fill: #1967D2;\n",
              "      height: 32px;\n",
              "      padding: 0 0 0 0;\n",
              "      width: 32px;\n",
              "    }\n",
              "\n",
              "    .colab-df-convert:hover {\n",
              "      background-color: #E2EBFA;\n",
              "      box-shadow: 0px 1px 2px rgba(60, 64, 67, 0.3), 0px 1px 3px 1px rgba(60, 64, 67, 0.15);\n",
              "      fill: #174EA6;\n",
              "    }\n",
              "\n",
              "    .colab-df-buttons div {\n",
              "      margin-bottom: 4px;\n",
              "    }\n",
              "\n",
              "    [theme=dark] .colab-df-convert {\n",
              "      background-color: #3B4455;\n",
              "      fill: #D2E3FC;\n",
              "    }\n",
              "\n",
              "    [theme=dark] .colab-df-convert:hover {\n",
              "      background-color: #434B5C;\n",
              "      box-shadow: 0px 1px 3px 1px rgba(0, 0, 0, 0.15);\n",
              "      filter: drop-shadow(0px 1px 2px rgba(0, 0, 0, 0.3));\n",
              "      fill: #FFFFFF;\n",
              "    }\n",
              "  </style>\n",
              "\n",
              "    <script>\n",
              "      const buttonEl =\n",
              "        document.querySelector('#df-0103fbcc-7642-4217-9c18-171a7faf943f button.colab-df-convert');\n",
              "      buttonEl.style.display =\n",
              "        google.colab.kernel.accessAllowed ? 'block' : 'none';\n",
              "\n",
              "      async function convertToInteractive(key) {\n",
              "        const element = document.querySelector('#df-0103fbcc-7642-4217-9c18-171a7faf943f');\n",
              "        const dataTable =\n",
              "          await google.colab.kernel.invokeFunction('convertToInteractive',\n",
              "                                                    [key], {});\n",
              "        if (!dataTable) return;\n",
              "\n",
              "        const docLinkHtml = 'Like what you see? Visit the ' +\n",
              "          '<a target=\"_blank\" href=https://colab.research.google.com/notebooks/data_table.ipynb>data table notebook</a>'\n",
              "          + ' to learn more about interactive tables.';\n",
              "        element.innerHTML = '';\n",
              "        dataTable['output_type'] = 'display_data';\n",
              "        await google.colab.output.renderOutput(dataTable, element);\n",
              "        const docLink = document.createElement('div');\n",
              "        docLink.innerHTML = docLinkHtml;\n",
              "        element.appendChild(docLink);\n",
              "      }\n",
              "    </script>\n",
              "  </div>\n",
              "\n",
              "\n",
              "<div id=\"df-fd35b419-55ec-4973-9734-0e12630012d8\">\n",
              "  <button class=\"colab-df-quickchart\" onclick=\"quickchart('df-fd35b419-55ec-4973-9734-0e12630012d8')\"\n",
              "            title=\"Suggest charts\"\n",
              "            style=\"display:none;\">\n",
              "\n",
              "<svg xmlns=\"http://www.w3.org/2000/svg\" height=\"24px\"viewBox=\"0 0 24 24\"\n",
              "     width=\"24px\">\n",
              "    <g>\n",
              "        <path d=\"M19 3H5c-1.1 0-2 .9-2 2v14c0 1.1.9 2 2 2h14c1.1 0 2-.9 2-2V5c0-1.1-.9-2-2-2zM9 17H7v-7h2v7zm4 0h-2V7h2v10zm4 0h-2v-4h2v4z\"/>\n",
              "    </g>\n",
              "</svg>\n",
              "  </button>\n",
              "\n",
              "<style>\n",
              "  .colab-df-quickchart {\n",
              "      --bg-color: #E8F0FE;\n",
              "      --fill-color: #1967D2;\n",
              "      --hover-bg-color: #E2EBFA;\n",
              "      --hover-fill-color: #174EA6;\n",
              "      --disabled-fill-color: #AAA;\n",
              "      --disabled-bg-color: #DDD;\n",
              "  }\n",
              "\n",
              "  [theme=dark] .colab-df-quickchart {\n",
              "      --bg-color: #3B4455;\n",
              "      --fill-color: #D2E3FC;\n",
              "      --hover-bg-color: #434B5C;\n",
              "      --hover-fill-color: #FFFFFF;\n",
              "      --disabled-bg-color: #3B4455;\n",
              "      --disabled-fill-color: #666;\n",
              "  }\n",
              "\n",
              "  .colab-df-quickchart {\n",
              "    background-color: var(--bg-color);\n",
              "    border: none;\n",
              "    border-radius: 50%;\n",
              "    cursor: pointer;\n",
              "    display: none;\n",
              "    fill: var(--fill-color);\n",
              "    height: 32px;\n",
              "    padding: 0;\n",
              "    width: 32px;\n",
              "  }\n",
              "\n",
              "  .colab-df-quickchart:hover {\n",
              "    background-color: var(--hover-bg-color);\n",
              "    box-shadow: 0 1px 2px rgba(60, 64, 67, 0.3), 0 1px 3px 1px rgba(60, 64, 67, 0.15);\n",
              "    fill: var(--button-hover-fill-color);\n",
              "  }\n",
              "\n",
              "  .colab-df-quickchart-complete:disabled,\n",
              "  .colab-df-quickchart-complete:disabled:hover {\n",
              "    background-color: var(--disabled-bg-color);\n",
              "    fill: var(--disabled-fill-color);\n",
              "    box-shadow: none;\n",
              "  }\n",
              "\n",
              "  .colab-df-spinner {\n",
              "    border: 2px solid var(--fill-color);\n",
              "    border-color: transparent;\n",
              "    border-bottom-color: var(--fill-color);\n",
              "    animation:\n",
              "      spin 1s steps(1) infinite;\n",
              "  }\n",
              "\n",
              "  @keyframes spin {\n",
              "    0% {\n",
              "      border-color: transparent;\n",
              "      border-bottom-color: var(--fill-color);\n",
              "      border-left-color: var(--fill-color);\n",
              "    }\n",
              "    20% {\n",
              "      border-color: transparent;\n",
              "      border-left-color: var(--fill-color);\n",
              "      border-top-color: var(--fill-color);\n",
              "    }\n",
              "    30% {\n",
              "      border-color: transparent;\n",
              "      border-left-color: var(--fill-color);\n",
              "      border-top-color: var(--fill-color);\n",
              "      border-right-color: var(--fill-color);\n",
              "    }\n",
              "    40% {\n",
              "      border-color: transparent;\n",
              "      border-right-color: var(--fill-color);\n",
              "      border-top-color: var(--fill-color);\n",
              "    }\n",
              "    60% {\n",
              "      border-color: transparent;\n",
              "      border-right-color: var(--fill-color);\n",
              "    }\n",
              "    80% {\n",
              "      border-color: transparent;\n",
              "      border-right-color: var(--fill-color);\n",
              "      border-bottom-color: var(--fill-color);\n",
              "    }\n",
              "    90% {\n",
              "      border-color: transparent;\n",
              "      border-bottom-color: var(--fill-color);\n",
              "    }\n",
              "  }\n",
              "</style>\n",
              "\n",
              "  <script>\n",
              "    async function quickchart(key) {\n",
              "      const quickchartButtonEl =\n",
              "        document.querySelector('#' + key + ' button');\n",
              "      quickchartButtonEl.disabled = true;  // To prevent multiple clicks.\n",
              "      quickchartButtonEl.classList.add('colab-df-spinner');\n",
              "      try {\n",
              "        const charts = await google.colab.kernel.invokeFunction(\n",
              "            'suggestCharts', [key], {});\n",
              "      } catch (error) {\n",
              "        console.error('Error during call to suggestCharts:', error);\n",
              "      }\n",
              "      quickchartButtonEl.classList.remove('colab-df-spinner');\n",
              "      quickchartButtonEl.classList.add('colab-df-quickchart-complete');\n",
              "    }\n",
              "    (() => {\n",
              "      let quickchartButtonEl =\n",
              "        document.querySelector('#df-fd35b419-55ec-4973-9734-0e12630012d8 button');\n",
              "      quickchartButtonEl.style.display =\n",
              "        google.colab.kernel.accessAllowed ? 'block' : 'none';\n",
              "    })();\n",
              "  </script>\n",
              "</div>\n",
              "    </div>\n",
              "  </div>\n"
            ],
            "application/vnd.google.colaboratory.intrinsic+json": {
              "type": "dataframe",
              "variable_name": "dataset",
              "summary": "{\n  \"name\": \"dataset\",\n  \"rows\": 50000,\n  \"fields\": [\n    {\n      \"column\": \"review\",\n      \"properties\": {\n        \"dtype\": \"string\",\n        \"num_unique_values\": 49582,\n        \"samples\": [\n          \"\\\"Soul Plane\\\" is a horrible attempt at comedy that only should appeal people with thick skulls, bloodshot eyes and furry pawns. <br /><br />The plot is not only incoherent but also non-existent, acting is mostly sub sub-par with a gang of highly moronic and dreadful characters thrown in for bad measure, jokes are often spotted miles ahead and almost never even a bit amusing. This movie lacks any structure and is full of racial stereotypes that must have seemed old even in the fifties, the only thing it really has going for it is some pretty ladies, but really, if you want that you can rent something from the \\\"Adult\\\" section. OK?<br /><br />I can hardly see anything here to recommend since you'll probably have a lot a better and productive time chasing rats with a sledgehammer or inventing waterproof teabags or whatever.<br /><br />2/10\",\n          \"Guest from the Future tells a fascinating story of time travel, friendship, battle of good and evil -- all with a small budget, child actors, and few special effects. Something for Spielberg and Lucas to learn from. ;) A sixth-grader Kolya \\\"Nick\\\" Gerasimov finds a time machine in the basement of a decrepit building and travels 100 years into the future. He discovers a near-perfect, utopian society where robots play guitars and write poetry, everyone is kind to each other and people enjoy everything technology has to offer. Alice is the daughter of a prominent scientist who invented a device called Mielophone that allows to read minds of humans and animals. The device can be put to both good and bad use, depending on whose hands it falls into. When two evil space pirates from Saturn who want to rule the universe attempt to steal Mielophone, it falls into the hands of 20th century school boy Nick. With the pirates hot on his tracks, he travels back to his time, followed by the pirates, and Alice. Chaos, confusion and funny situations follow as the luckless pirates try to blend in with the earthlings. Alice enrolls in the same school Nick goes to and demonstrates superhuman abilities in PE class. The catch is, Alice doesn't know what Nick looks like, while the pirates do. Also, the pirates are able to change their appearance and turn literally into anyone. (Hmm, I wonder if this is where James Cameron got the idea for Terminator...) Who gets to Nick -- and Mielophone -- first? Excellent plot, non-stop adventures, and great soundtrack. I wish Hollywood made kid movies like this one...\",\n          \"\\\"National Treasure\\\" (2004) is a thoroughly misguided hodge-podge of plot entanglements that borrow from nearly every cloak and dagger government conspiracy clich\\u00e9 that has ever been written. The film stars Nicholas Cage as Benjamin Franklin Gates (how precious is that, I ask you?); a seemingly normal fellow who, for no other reason than being of a lineage of like-minded misguided fortune hunters, decides to steal a 'national treasure' that has been hidden by the United States founding fathers. After a bit of subtext and background that plays laughably (unintentionally) like Indiana Jones meets The Patriot, the film degenerates into one misguided whimsy after another \\u0096 attempting to create a 'Stanley Goodspeed' regurgitation of Nicholas Cage and launch the whole convoluted mess forward with a series of high octane, but disconnected misadventures.<br /><br />The relevancy and logic to having George Washington and his motley crew of patriots burying a king's ransom someplace on native soil, and then, going through the meticulous plan of leaving clues scattered throughout U.S. currency art work, is something that director Jon Turteltaub never quite gets around to explaining. Couldn't Washington found better usage for such wealth during the start up of the country? Hence, we are left with a mystery built on top of an enigma that is already on shaky ground by the time Ben appoints himself the new custodian of this untold wealth. Ben's intentions are noble \\u0096 if confusing. He's set on protecting the treasure. For who and when?\\u0085your guess is as good as mine.<br /><br />But there are a few problems with Ben's crusade. First up, his friend, Ian Holmes (Sean Bean) decides that he can't wait for Ben to make up his mind about stealing the Declaration of Independence from the National Archives (oh, yeah \\u0096 brilliant idea!). Presumably, the back of that famous document holds the secret answer to the ultimate fortune. So Ian tries to kill Ben. The assassination attempt is, of course, unsuccessful, if overly melodramatic. It also affords Ben the opportunity to pick up, and pick on, the very sultry curator of the archives, Abigail Chase (Diane Kruger). She thinks Ben is clearly a nut \\u0096 at least at the beginning. But true to action/romance form, Abby's resolve melts quicker than you can say, \\\"is that the Hope Diamond?\\\" The film moves into full X-File-ish mode, as the FBI, mistakenly believing that Ben is behind the theft, retaliate in various benign ways that lead to a multi-layering of action sequences reminiscent of Mission Impossible meets The Fugitive. Honestly, don't those guys ever get 'intelligence' information that is correct? In the final analysis, \\\"National Treasure\\\" isn't great film making, so much as it's a patchwork rehash of tired old bits from other movies, woven together from scraps, the likes of which would make IL' Betsy Ross blush.<br /><br />The Buena Vista DVD delivers a far more generous treatment than this film is deserving of. The anamorphic widescreen picture exhibits a very smooth and finely detailed image with very rich colors, natural flesh tones, solid blacks and clean whites. The stylized image is also free of blemishes and digital enhancements. The audio is 5.1 and delivers a nice sonic boom to your side and rear speakers with intensity and realism. Extras include a host of promotional junket material that is rather deep and over the top in its explanation of how and why this film was made. If only, as an audience, we had had more clarification as to why Ben and co. were chasing after an illusive treasure, this might have been one good flick. Extras conclude with the theatrical trailer, audio commentary and deleted scenes. Not for the faint-hearted \\u0096 just the thick-headed.\"\n        ],\n        \"semantic_type\": \"\",\n        \"description\": \"\"\n      }\n    },\n    {\n      \"column\": \"sentiment\",\n      \"properties\": {\n        \"dtype\": \"category\",\n        \"num_unique_values\": 2,\n        \"samples\": [\n          \"negative\",\n          \"positive\"\n        ],\n        \"semantic_type\": \"\",\n        \"description\": \"\"\n      }\n    },\n    {\n      \"column\": \"class\",\n      \"properties\": {\n        \"dtype\": \"number\",\n        \"std\": 0,\n        \"min\": 0,\n        \"max\": 1,\n        \"num_unique_values\": 2,\n        \"samples\": [\n          0,\n          1\n        ],\n        \"semantic_type\": \"\",\n        \"description\": \"\"\n      }\n    }\n  ]\n}"
            }
          },
          "metadata": {},
          "execution_count": 9
        }
      ],
      "source": [
        "dataset.head()"
      ]
    },
    {
      "cell_type": "code",
      "execution_count": 10,
      "metadata": {
        "colab": {
          "base_uri": "https://localhost:8080/",
          "height": 142
        },
        "id": "9Mtk5TDLBzrw",
        "outputId": "060b4b85-08df-460f-f896-3520f9a91ec6"
      },
      "outputs": [
        {
          "output_type": "execute_result",
          "data": {
            "text/plain": [
              "\"One of the other reviewers has mentioned that after watching just 1 Oz episode you'll be hooked. They are right, as this is exactly what happened with me.<br /><br />The first thing that struck me about Oz was its brutality and unflinching scenes of violence, which set in right from the word GO. Trust me, this is not a show for the faint hearted or timid. This show pulls no punches with regards to drugs, sex or violence. Its is hardcore, in the classic use of the word.<br /><br />It is called OZ as that is the nickname given to the Oswald Maximum Security State Penitentary. It focuses mainly on Emerald City, an experimental section of the prison where all the cells have glass fronts and face inwards, so privacy is not high on the agenda. Em City is home to many..Aryans, Muslims, gangstas, Latinos, Christians, Italians, Irish and more....so scuffles, death stares, dodgy dealings and shady agreements are never far away.<br /><br />I would say the main appeal of the show is due to the fact that it goes where other shows wouldn't dare. Forget pretty pictures painted for mainstream audiences, forget charm, forget romance...OZ doesn't mess around. The first episode I ever saw struck me as so nasty it was surreal, I couldn't say I was ready for it, but as I watched more, I developed a taste for Oz, and got accustomed to the high levels of graphic violence. Not just violence, but injustice (crooked guards who'll be sold out for a nickel, inmates who'll kill on order and get away with it, well mannered, middle class inmates being turned into prison bitches due to their lack of street skills or prison experience) Watching Oz, you may become comfortable with what is uncomfortable viewing....thats if you can get in touch with your darker side.\""
            ],
            "application/vnd.google.colaboratory.intrinsic+json": {
              "type": "string"
            }
          },
          "metadata": {},
          "execution_count": 10
        }
      ],
      "source": [
        "dataset['review'][0]"
      ]
    },
    {
      "cell_type": "code",
      "execution_count": 11,
      "metadata": {
        "colab": {
          "base_uri": "https://localhost:8080/"
        },
        "id": "bJA7pTbNDZJ9",
        "outputId": "b9cdfebf-43b1-4fdd-cb0c-502bd3d37fc6"
      },
      "outputs": [
        {
          "output_type": "stream",
          "name": "stderr",
          "text": [
            "<ipython-input-11-eed663f1e783>:3: MarkupResemblesLocatorWarning: The input looks more like a filename than markup. You may want to open this file and pass the filehandle into Beautiful Soup.\n",
            "  soup = BeautifulSoup(text, \"html.parser\")\n"
          ]
        }
      ],
      "source": [
        "# removing the html tags\n",
        "def strip_html(text):\n",
        "    soup = BeautifulSoup(text, \"html.parser\")\n",
        "    return soup.get_text()\n",
        "\n",
        "# removing the square brackets\n",
        "def remove_between_square_brackets(text):\n",
        "    return re.sub('\\[[^]]*\\]', '', text)\n",
        "\n",
        "# removing special characters\n",
        "def remove_special_characters(text):\n",
        "    pattern=r'[^a-zA-z0-9\\s]'\n",
        "    text=re.sub(pattern,'',text)\n",
        "    return text\n",
        "\n",
        "# pipeline of cleaning the text\n",
        "def denoise_text(text):\n",
        "    text = strip_html(text)\n",
        "    text = remove_between_square_brackets(text)\n",
        "    text = remove_special_characters(text)\n",
        "    return text\n",
        "\n",
        "# Apply function on review column\n",
        "dataset['review'] = dataset['review'].apply(denoise_text)"
      ]
    },
    {
      "cell_type": "code",
      "execution_count": 12,
      "metadata": {
        "colab": {
          "base_uri": "https://localhost:8080/",
          "height": 142
        },
        "id": "BQ7JjhyWaylY",
        "outputId": "1a242bd5-b0c2-41f5-c3da-6dd8b6d17661"
      },
      "outputs": [
        {
          "output_type": "execute_result",
          "data": {
            "text/plain": [
              "'One of the other reviewers has mentioned that after watching just 1 Oz episode youll be hooked They are right as this is exactly what happened with meThe first thing that struck me about Oz was its brutality and unflinching scenes of violence which set in right from the word GO Trust me this is not a show for the faint hearted or timid This show pulls no punches with regards to drugs sex or violence Its is hardcore in the classic use of the wordIt is called OZ as that is the nickname given to the Oswald Maximum Security State Penitentary It focuses mainly on Emerald City an experimental section of the prison where all the cells have glass fronts and face inwards so privacy is not high on the agenda Em City is home to manyAryans Muslims gangstas Latinos Christians Italians Irish and moreso scuffles death stares dodgy dealings and shady agreements are never far awayI would say the main appeal of the show is due to the fact that it goes where other shows wouldnt dare Forget pretty pictures painted for mainstream audiences forget charm forget romanceOZ doesnt mess around The first episode I ever saw struck me as so nasty it was surreal I couldnt say I was ready for it but as I watched more I developed a taste for Oz and got accustomed to the high levels of graphic violence Not just violence but injustice crooked guards wholl be sold out for a nickel inmates wholl kill on order and get away with it well mannered middle class inmates being turned into prison bitches due to their lack of street skills or prison experience Watching Oz you may become comfortable with what is uncomfortable viewingthats if you can get in touch with your darker side'"
            ],
            "application/vnd.google.colaboratory.intrinsic+json": {
              "type": "string"
            }
          },
          "metadata": {},
          "execution_count": 12
        }
      ],
      "source": [
        "dataset['review'][0]"
      ]
    },
    {
      "cell_type": "code",
      "execution_count": 13,
      "metadata": {
        "id": "gbz9mz1GBlKy"
      },
      "outputs": [],
      "source": [
        "pattern = r'''(?x)          # set flag to allow verbose regexps\n",
        "        (?:[A-Z]\\.)+        # abbreviations, e.g. U.S.A.\n",
        "      | \\w+(?:-\\w+)*        # words with optional internal hyphens\n",
        "      | \\$?\\d+(?:\\.\\d+)?%?\\s?  # currency and percentages, e.g. $12.40, 82%\n",
        "      | \\.\\.\\.              # ellipsis\n",
        "      | [][.,;\"'?():_`-]    # these are separate tokens; includes ], [\n",
        "    '''\n",
        "pattern = re.compile(pattern)\n",
        "\n",
        "def getTokenizedText(texts):\n",
        "  tokenized_texts = []\n",
        "  for text in texts:\n",
        "    tokenized = nltk.regexp_tokenize(text, pattern)\n",
        "    tokenized_texts.append(tokenized)\n",
        "\n",
        "  return tokenized_texts"
      ]
    },
    {
      "cell_type": "code",
      "execution_count": 14,
      "metadata": {
        "id": "xZYwr8swBq1V"
      },
      "outputs": [],
      "source": [
        "x = getTokenizedText(dataset['review'])"
      ]
    },
    {
      "cell_type": "code",
      "execution_count": 15,
      "metadata": {
        "id": "qfEAiP9odKde"
      },
      "outputs": [],
      "source": [
        "# this function is for some processes like stemming, lemmatization, removing punctuation, and etc.\n",
        "from nltk.stem import PorterStemmer, WordNetLemmatizer\n",
        "\n",
        "def normalize_texts(tokenized_texts, minimum_length=2,\n",
        "                       stopword_removal=True, lower_case=False, punctuation_removal=True,\n",
        "                       stem=False, lemmatize=False,\n",
        "                       stopwords_domain=[]):\n",
        "    '''\n",
        "    normalization function\n",
        "    '''\n",
        "    normalized_texts = tokenized_texts\n",
        "\n",
        "    if punctuation_removal:\n",
        "        # Remove punctuations\n",
        "        normalized_texts=[[word for word in sentence if word not in string.punctuation] for sentence in normalized_texts ]\n",
        "\n",
        "\n",
        "    if stem:\n",
        "      ps = PorterStemmer()\n",
        "      normalized_texts = [[ps.stem(word) for word in sentence] for sentence in normalized_texts]\n",
        "\n",
        "    if stopword_removal:\n",
        "      # Remove stopwords in English and also the given domain stopwords\n",
        "      stopwords = [x.lower() for x in nltk.corpus.stopwords.words('english')]\n",
        "      normalized_texts = [[word for word in sentence if (word.lower() not in stopwords_domain + stopwords)] for sentence in normalized_texts ]\n",
        "\n",
        "    if lemmatize:\n",
        "      wordnet_lemmatizer = WordNetLemmatizer()\n",
        "      normalized_texts = [[wordnet_lemmatizer(word) for word in sentence] for sentence in normalized_texts]\n",
        "\n",
        "    if lower_case:\n",
        "        # Convert everything to lowercase and filter based on a min length\n",
        "        normalized_texts = [[word.lower() for word in sentence if len(word)>minimum_length] for sentence in normalized_texts ]\n",
        "\n",
        "    elif minimum_length>1:\n",
        "        normalized_texts = [[word for word in sentence if len(word)>minimum_length] for sentence in normalized_texts ]\n",
        "\n",
        "    return normalized_texts"
      ]
    },
    {
      "cell_type": "code",
      "execution_count": 17,
      "metadata": {
        "id": "6TrtIheZhWkx"
      },
      "outputs": [],
      "source": [
        "x_normalized = normalize_texts(x, stem=True)\n",
        "y = list(dataset['class'])"
      ]
    },
    {
      "cell_type": "code",
      "execution_count": 18,
      "metadata": {
        "colab": {
          "base_uri": "https://localhost:8080/"
        },
        "id": "-B4fNyOG165L",
        "outputId": "b15a61c8-df60-482f-a89b-2027e42570dc"
      },
      "outputs": [
        {
          "output_type": "execute_result",
          "data": {
            "text/plain": [
              "121.97698"
            ]
          },
          "metadata": {},
          "execution_count": 18
        }
      ],
      "source": [
        "sum=0\n",
        "for sample in x_normalized:\n",
        "  sum += len(sample)\n",
        "\n",
        "sum/len(x_normalized)"
      ]
    },
    {
      "cell_type": "code",
      "execution_count": 19,
      "metadata": {
        "colab": {
          "base_uri": "https://localhost:8080/"
        },
        "id": "lvCycwXYuWWN",
        "outputId": "637bfa10-7748-42e9-d9fa-26643adf0900"
      },
      "outputs": [
        {
          "output_type": "stream",
          "name": "stdout",
          "text": [
            "{'thi': 1, 'movi': 2, 'film': 3, 'one': 4, 'like': 5, 'time': 6, 'good': 7, 'make': 8, 'get': 9, 'see': 10, 'charact': 11, 'veri': 12, 'watch': 13, 'even': 14, 'stori': 15, 'would': 16, 'onli': 17, 'realli': 18, 'scene': 19, 'show': 20, 'look': 21, 'well': 22, 'much': 23, 'end': 24, 'peopl': 25, 'great': 26, 'bad': 27, 'love': 28, 'becaus': 29, 'also': 30, 'think': 31, 'play': 32, 'first': 33, 'act': 34, 'dont': 35, 'way': 36, 'thing': 37, 'made': 38, 'could': 39, 'ani': 40, 'know': 41, 'say': 42, 'seem': 43, 'mani': 44, 'work': 45, 'want': 46, 'seen': 47, 'plot': 48, 'actor': 49, 'come': 50, 'two': 51, 'take': 52, 'never': 53, 'tri': 54, 'littl': 55, 'best': 56, 'year': 57, 'life': 58, 'ever': 59, 'doe': 60, 'give': 61, 'better': 62, 'man': 63, 'find': 64, 'still': 65, 'perform': 66, 'feel': 67, 'whi': 68, 'use': 69, 'part': 70, 'actual': 71, 'someth': 72, 'lot': 73, 'back': 74, 'interest': 75, 'director': 76, 'real': 77, 'guy': 78, 'doesnt': 79, 'didnt': 80, 'cast': 81, 'though': 82, 'funni': 83, 'live': 84, 'enjoy': 85, 'befor': 86, 'music': 87, 'anoth': 88, 'noth': 89, 'new': 90, 'role': 91, 'start': 92, 'everi': 93, 'old': 94, 'point': 95, 'star': 96, 'believ': 97, 'girl': 98, 'set': 99, 'cant': 100, 'origin': 101, 'quit': 102, 'turn': 103, 'thought': 104, 'world': 105, 'fact': 106, 'kill': 107, 'day': 108, 'pretti': 109, 'wonder': 110, 'around': 111, 'minut': 112, 'direct': 113, 'young': 114, 'effect': 115, 'happen': 116, 'comedi': 117, 'got': 118, 'horror': 119, 'enough': 120, 'right': 121, 'big': 122, 'action': 123, 'may': 124, 'need': 125, 'fan': 126, 'bit': 127, 'long': 128, 'ive': 129, 'howev': 130, 'line': 131, 'friend': 132, 'person': 133, 'without': 134, 'saw': 135, 'script': 136, 'isnt': 137, 'alway': 138, 'beauti': 139, 'becom': 140, 'must': 141, 'almost': 142, 'put': 143, 'famili': 144, 'seri': 145, 'reason': 146, 'tell': 147, 'whole': 148, 'kid': 149, 'complet': 150, 'least': 151, 'last': 152, 'final': 153, 'sure': 154, 'kind': 155, 'done': 156, 'laugh': 157, 'expect': 158, 'differ': 159, 'shot': 160, 'far': 161, 'might': 162, 'place': 163, 'anyth': 164, 'name': 165, 'mean': 166, 'probabl': 167, 'sinc': 168, 'begin': 169, 'help': 170, 'book': 171, 'call': 172, 'let': 173, 'entertain': 174, 'away': 175, 'moment': 176, 'anyon': 177, 'woman': 178, 'rather': 179, 'yet': 180, 'lead': 181, 'worst': 182, 'read': 183, 'found': 184, 'fun': 185, 'idea': 186, 'audienc': 187, 'run': 188, 'keep': 189, 'screen': 190, 'appear': 191, 'hope': 192, 'american': 193, 'bore': 194, 'episod': 195, 'dvd': 196, 'cours': 197, 'especi': 198, 'hard': 199, 'goe': 200, 'war': 201, 'job': 202, 'move': 203, 'everyth': 204, 'sens': 205, 'main': 206, 'although': 207, 'worth': 208, 'someon': 209, 'recommend': 210, 'wasnt': 211, 'sound': 212, 'mayb': 213, 'problem': 214, 'three': 215, 'version': 216, 'onc': 217, 'everyon': 218, 'leav': 219, 'special': 220, 'money': 221, 'true': 222, 'excel': 223, 'product': 224, 'nice': 225, 'wast': 226, 'follow': 227, 'night': 228, 'human': 229, 'togeth': 230, 'said': 231, 'dure': 232, 'understand': 233, 'review': 234, 'boy': 235, 'second': 236, 'view': 237, 'talk': 238, 'face': 239, 'instead': 240, 'classic': 241, 'later': 242, 'black': 243, 'mind': 244, 'left': 245, 'john': 246, 'open': 247, 'care': 248, 'death': 249, 'miss': 250, 'anim': 251, 'hous': 252, 'total': 253, 'short': 254, 'hour': 255, 'rememb': 256, 'write': 257, 'chang': 258, 'murder': 259, 'surpris': 260, 'entir': 261, 'gener': 262, 'involv': 263, 'wife': 264, 'includ': 265, 'els': 266, 'fall': 267, 'high': 268, 'viewer': 269, 'simpli': 270, 'head': 271, 'die': 272, 'piec': 273, 'father': 274, 'attempt': 275, 'fight': 276, 'coupl': 277, 'rate': 278, 'hand': 279, 'usual': 280, 'terribl': 281, 'poor': 282, 'stupid': 283, 'eye': 284, 'portray': 285, 'suppos': 286, 'pictur': 287, 'releas': 288, 'home': 289, 'absolut': 290, 'men': 291, 'along': 292, 'power': 293, 'featur': 294, 'lack': 295, 'song': 296, 'possibl': 297, 'definit': 298, 'word': 299, 'hollywood': 300, 'less': 301, 'rest': 302, 'half': 303, 'given': 304, 'disappoint': 305, 'decid': 306, 'except': 307, 'wrong': 308, 'women': 309, 'produc': 310, 'either': 311, 'talent': 312, 'truli': 313, 'camera': 314, 'school': 315, 'emot': 316, 'video': 317, 'dead': 318, 'save': 319, 'perfect': 320, 'next': 321, 'came': 322, 'game': 323, 'titl': 324, 'bring': 325, 'sort': 326, 'sever': 327, 'full': 328, 'comment': 329, 'sex': 330, 'top': 331, 'budget': 332, 'case': 333, 'creat': 334, 'dialogu': 335, 'humor': 336, 'mother': 337, 'joke': 338, 'perhap': 339, 'meet': 340, 'guess': 341, 'dark': 342, 'base': 343, 'style': 344, 'flick': 345, 'sequenc': 346, 'often': 347, 'small': 348, 'couldnt': 349, 'earli': 350, 'went': 351, 'experi': 352, 'consid': 353, 'forc': 354, 'children': 355, 'mention': 356, 'close': 357, 'manag': 358, 'exampl': 359, 'certainli': 360, 'brother': 361, 'amaz': 362, 'killer': 363, 'horribl': 364, 'extrem': 365, 'art': 366, 'ask': 367, 'qualiti': 368, 'develop': 369, 'felt': 370, 'imagin': 371, 'lost': 372, 'cinema': 373, 'car': 374, 'actress': 375, 'stop': 376, 'drama': 377, 'fail': 378, 'age': 379, 'written': 380, 'impress': 381, 'present': 382, 'wors': 383, 'matter': 384, 'unfortun': 385, 'writer': 386, 'light': 387, 'side': 388, 'cut': 389, 'support': 390, 'basic': 391, 'favorit': 392, 'low': 393, 'son': 394, 'learn': 395, 'natur': 396, 'white': 397, 'wait': 398, 'evil': 399, 'hit': 400, 'wont': 401, 'alreadi': 402, 'heart': 403, 'youll': 404, 'walk': 405, 'relationship': 406, 'abl': 407, 'stand': 408, 'throughout': 409, 'type': 410, 'voic': 411, 'deal': 412, 'question': 413, 'fine': 414, 'wish': 415, 'filmmak': 416, 'number': 417, 'hero': 418, 'danc': 419, 'realiz': 420, 'hate': 421, 'success': 422, 'michael': 423, 'despit': 424, 'sit': 425, 'credit': 426, 'rent': 427, 'group': 428, 'histori': 429, 'mysteri': 430, 'town': 431, 'past': 432, 'twist': 433, 'today': 434, 'theyr': 435, 'daughter': 436, 'stay': 437, 'genr': 438, 'citi': 439, 'gave': 440, 'sometim': 441, 'score': 442, 'deserv': 443, 'touch': 444, 'late': 445, 'theme': 446, 'event': 447, 'situat': 448, 'behind': 449, 'major': 450, 'annoy': 451, 'add': 452, 'appar': 453, 'edit': 454, 'incred': 455, 'ill': 456, 'robert': 457, 'god': 458, 'stuff': 459, 'brilliant': 460, 'order': 461, 'child': 462, 'chanc': 463, 'obvious': 464, 'bodi': 465, 'return': 466, 'hilari': 467, 'decent': 468, 'themselv': 469, 'overal': 470, 'continu': 471, 'took': 472, 'soon': 473, 'ridicul': 474, 'figur': 475, 'pleas': 476, 'level': 477, 'heard': 478, 'hell': 479, 'element': 480, 'highli': 481, 'comic': 482, 'import': 483, 'blood': 484, 'strang': 485, 'pick': 486, 'speak': 487, 'polic': 488, 'wouldnt': 489, 'cannot': 490, 'told': 491, 'monster': 492, 'sad': 493, 'novel': 494, 'critic': 495, 'recent': 496, 'pain': 497, 'etc': 498, 'countri': 499, 'compar': 500, 'hold': 501, 'predict': 502, 'shoot': 503, 'career': 504, 'caus': 505, 'slow': 506, 'thank': 507, 'provid': 508, 'documentari': 509, 'strong': 510, 'particularli': 511, 'visual': 512, 'offer': 513, 'huge': 514, 'happi': 515, 'state': 516, 'local': 517, 'pace': 518, 'deliv': 519, 'cool': 520, 'allow': 521, 'husband': 522, 'shown': 523, 'seriou': 524, 'effort': 525, 'taken': 526, 'opinion': 527, 'realiti': 528, 'simpl': 529, 'obviou': 530, 'explain': 531, 'result': 532, 'violenc': 533, 'suspens': 534, 'femal': 535, 'hear': 536, 'sister': 537, 'david': 538, 'ladi': 539, 'jame': 540, 'across': 541, 'theater': 542, 'known': 543, 'sequel': 544, 'exactli': 545, 'buy': 546, 'dream': 547, 'zombi': 548, 'break': 549, 'ago': 550, 'anyway': 551, 'subject': 552, 'valu': 553, 'serious': 554, 'room': 555, 'crap': 556, 'silli': 557, 'check': 558, 'whose': 559, 'english': 560, 'dialog': 561, 'cinematographi': 562, 'convinc': 563, 'confus': 564, 'dog': 565, 'similar': 566, 'alon': 567, 'shock': 568, 'gore': 569, 'none': 570, 'team': 571, 'cop': 572, 'pull': 573, 'offic': 574, 'note': 575, 'polit': 576, 'sexual': 577, 'cover': 578, 'somewhat': 579, 'knew': 580, 'messag': 581, 'beyond': 582, 'carri': 583, 'parent': 584, 'mostli': 585, 'excit': 586, 'rock': 587, 'season': 588, 'form': 589, 'escap': 590, 'attent': 591, 'tale': 592, 'remind': 593, 'apart': 594, 'due': 595, 'pass': 596, 'jack': 597, 'build': 598, 'thriller': 599, 'televis': 600, 'prove': 601, 'singl': 602, 'typic': 603, 'scari': 604, 'detail': 605, 'cheap': 606, 'toward': 607, 'pay': 608, 'imag': 609, 'upon': 610, 'king': 611, 'remain': 612, 'avoid': 613, 'doubt': 614, 'modern': 615, 'member': 616, 'street': 617, 'clearli': 618, 'charm': 619, 'four': 620, 'train': 621, 'arent': 622, 'fit': 623, 'win': 624, 'unlik': 625, 'villain': 626, 'georg': 627, 'discov': 628, 'william': 629, 'sing': 630, 'british': 631, 'respect': 632, 'western': 633, 'marri': 634, 'fill': 635, 'intellig': 636, 'captur': 637, 'plan': 638, 'atmospher': 639, 'spend': 640, 'clich': 641, 'class': 642, 'soundtrack': 643, 'weak': 644, 'romant': 645, 'teenag': 646, 'space': 647, 'drug': 648, 'french': 649, 'whether': 650, 'gun': 651, 'posit': 652, 'havent': 653, 'exist': 654, 'stage': 655, 'clear': 656, 'easili': 657, 'earth': 658, 'artist': 659, 'ten': 660, 'crime': 661, 'fire': 662, 'aspect': 663, 'notic': 664, 'appreci': 665, 'alien': 666, 'futur': 667, 'peter': 668, 'bunch': 669, 'air': 670, 'date': 671, 'storylin': 672, 'forget': 673, 'attack': 674, 'realist': 675, 'battl': 676, 'copi': 677, 'abov': 678, 'soldier': 679, 'within': 680, 'richard': 681, 'drive': 682, 'five': 683, 'chase': 684, 'mark': 685, 'fantast': 686, 'middl': 687, 'dull': 688, 'certain': 689, 'agre': 690, 'adult': 691, 'accept': 692, 'doctor': 693, 'near': 694, 'oscar': 695, 'among': 696, 'materi': 697, 'adapt': 698, 'suggest': 699, 'larg': 700, 'victim': 701, 'master': 702, 'easi': 703, 'lose': 704, 'locat': 705, 'truth': 706, 'period': 707, 'kept': 708, 'box': 709, 'greatest': 710, 'gone': 711, 'eventu': 712, 'reveal': 713, 'nearli': 714, 'color': 715, 'sorri': 716, 'standard': 717, 'contain': 718, 'inspir': 719, 'student': 720, 'suck': 721, 'bill': 722, 'finish': 723, 'throw': 724, 'busi': 725, 'straight': 726, 'cri': 727, 'suffer': 728, 'issu': 729, 'brought': 730, 'troubl': 731, 'cartoon': 732, 'famou': 733, 'describ': 734, 'water': 735, 'premis': 736, 'mess': 737, 'attract': 738, 'youv': 739, 'normal': 740, 'shame': 741, 'match': 742, 'refer': 743, 'rare': 744, 'pure': 745, 'somehow': 746, 'vampir': 747, 'express': 748, 'list': 749, 'ultim': 750, 'paul': 751, 'dramat': 752, 'spoiler': 753, 'romanc': 754, 'memor': 755, 'bother': 756, 'america': 757, 'cultur': 758, 'admit': 759, 'mix': 760, 'particular': 761, 'york': 762, 'tom': 763, 'background': 764, 'red': 765, 'relat': 766, 'german': 767, 'prison': 768, 'parti': 769, 'male': 770, 'masterpiec': 771, 'secret': 772, 'crew': 773, 'adventur': 774, 'fear': 775, 'treat': 776, 'deep': 777, 'wit': 778, 'lame': 779, 'difficult': 780, 'societi': 781, 'depict': 782, 'averag': 783, 'island': 784, 'remak': 785, 'gay': 786, 'fast': 787, 'appeal': 788, 'okay': 789, 'scare': 790, 'babi': 791, 'studio': 792, 'becam': 793, 'cheesi': 794, 'project': 795, 'inde': 796, 'poorli': 797, 'lie': 798, 'choic': 799, 'wood': 800, 'hot': 801, 'imdb': 802, 'footag': 803, 'wear': 804, 'weird': 805, 'uniqu': 806, 'struggl': 807, 'warn': 808, 'accent': 809, 'screenplay': 810, 'lee': 811, 'design': 812, 'scifi': 813, 'whatev': 814, 'odd': 815, 'fli': 816, 'amus': 817, 'third': 818, 'insid': 819, 'mad': 820, 'grow': 821, 'control': 822, 'previou': 823, 'crazi': 824, 'flaw': 825, 'spirit': 826, 'potenti': 827, 'costum': 828, 'week': 829, 'stereotyp': 830, 'connect': 831, 'outsid': 832, 'public': 833, 'moral': 834, 'unless': 835, 'forward': 836, 'superb': 837, 'scream': 838, 'otherwis': 839, 'plenti': 840, 'dumb': 841, 'award': 842, 'magic': 843, 'perfectli': 844, 'fiction': 845, 'ride': 846, 'rich': 847, 'amount': 848, 'quickli': 849, 'steal': 850, 'girlfriend': 851, 'creepi': 852, 'free': 853, 'japanes': 854, 'execut': 855, 'harri': 856, 'front': 857, 'plu': 858, 'lover': 859, 'surviv': 860, 'land': 861, 'badli': 862, 'popular': 863, 'stick': 864, 'joe': 865, 'earlier': 866, 'older': 867, 'bare': 868, 'variou': 869, 'compani': 870, 'disney': 871, 'answer': 872, 'jump': 873, 'inform': 874, 'term': 875, 'combin': 876, 'serv': 877, 'track': 878, 'fairli': 879, 'equal': 880, 'promis': 881, 'memori': 882, 'innoc': 883, 'disturb': 884, 'catch': 885, 'fantasi': 886, 'travel': 887, 'beat': 888, 'spent': 889, 'concept': 890, 'listen': 891, 'band': 892, 'clever': 893, 'plain': 894, 'histor': 895, 'univers': 896, 'meant': 897, 'record': 898, 'concern': 899, 'store': 900, 'dress': 901, 'eat': 902, 'roll': 903, 'destroy': 904, 'channel': 905, 'mari': 906, 'italian': 907, 'brain': 908, 'danger': 909, 'cute': 910, 'caught': 911, 'hardli': 912, 'cat': 913, 'abil': 914, 'tast': 915, 'creatur': 916, 'social': 917, 'familiar': 918, 'intens': 919, 'share': 920, 'mistak': 921, 'purpos': 922, 'collect': 923, 'engag': 924, 'intent': 925, 'teen': 926, 'ghost': 927, 'soul': 928, 'introduc': 929, 'respons': 930, 'ignor': 931, 'kick': 932, 'claim': 933, 'player': 934, 'park': 935, 'camp': 936, 'reach': 937, 'achiev': 938, 'desper': 939, 'tension': 940, 'blue': 941, 'liter': 942, 'van': 943, 'search': 944, 'indian': 945, 'depth': 946, 'fascin': 947, 'centuri': 948, 'languag': 949, 'sweet': 950, 'era': 951, 'slightli': 952, 'hair': 953, 'drag': 954, 'violent': 955, 'fake': 956, 'immedi': 957, 'arriv': 958, 'intrigu': 959, 'complex': 960, 'hole': 961, 'door': 962, 'commun': 963, 'nuditi': 964, 'ruin': 965, 'limit': 966, 'approach': 967, 'scott': 968, 'genuin': 969, 'flat': 970, 'extra': 971, 'skill': 972, 'tone': 973, 'spot': 974, 'judg': 975, 'tortur': 976, 'sick': 977, 'delight': 978, 'physic': 979, 'wrote': 980, 'mere': 981, 'bizarr': 982, 'step': 983, 'receiv': 984, 'nation': 985, 'gang': 986, 'unbeliev': 987, 'race': 988, 'sleep': 989, 'remark': 990, 'maker': 991, 'common': 992, 'suit': 993, 'neither': 994, 'imposs': 995, 'younger': 996, 'suddenli': 997, 'biggest': 998, 'former': 999, 'commit': 1000}\n",
            "tensor([[  4, 234, 356,  ...,   0,   0,   0],\n",
            "        [110,  55, 224,  ...,   0,   0,   0],\n",
            "        [104,   1, 110,  ...,   0,   0,   0],\n",
            "        ...,\n",
            "        [315, 268, 315,  ...,   0,   0,   0],\n",
            "        [823, 329, 388,  ...,   0,   0,   0],\n",
            "        [  4, 158,  96,  ...,   0,   0,   0]])\n",
            "torch.Size([50000, 120])\n"
          ]
        }
      ],
      "source": [
        "from collections import Counter\n",
        "from itertools import chain\n",
        "import torch\n",
        "\n",
        "corpus = Counter(list(chain.from_iterable(x_normalized)))\n",
        "corpus_ = sorted(corpus,key=corpus.get,reverse=True)[:1000]\n",
        "word_idx = {w:i+1 for i,w in enumerate(corpus_)}\n",
        "print(word_idx)\n",
        "\n",
        "max_seq_length = 120\n",
        "x_encoded = []\n",
        "for sample in x_normalized:\n",
        "  sample_encoded = [word_idx[w] for w in sample if w in word_idx.keys()]\n",
        "  if len(sample_encoded) > max_seq_length:\n",
        "    sample_encoded = sample_encoded[:max_seq_length]\n",
        "  else:\n",
        "    pad = [0 for i in range(max_seq_length-len(sample_encoded))]\n",
        "    sample_encoded = sample_encoded + pad\n",
        "  x_encoded.append(sample_encoded)\n",
        "\n",
        "x = torch.tensor(x_encoded)\n",
        "\n",
        "print(x)\n",
        "print(x.shape)"
      ]
    },
    {
      "cell_type": "code",
      "execution_count": 20,
      "metadata": {
        "colab": {
          "base_uri": "https://localhost:8080/"
        },
        "id": "I4QlsDrlHcLQ",
        "outputId": "9a3fa989-f7c4-4f8f-c828-fe3dbf17a7ae"
      },
      "outputs": [
        {
          "output_type": "stream",
          "name": "stdout",
          "text": [
            "torch.Size([40000, 120])\n",
            "torch.Size([5000, 120])\n",
            "torch.Size([5000, 120])\n",
            "<class 'torch.Tensor'>\n"
          ]
        }
      ],
      "source": [
        "from sklearn.model_selection import train_test_split\n",
        "x_train, x_test, y_train, y_test = train_test_split(x, y, test_size = 0.2, random_state = 42)\n",
        "x_val, x_test, y_val, y_test = train_test_split(x_test, y_test, test_size = 0.5, random_state = 42)\n",
        "\n",
        "print(x_train.shape)\n",
        "print(x_val.shape)\n",
        "print(x_test.shape)\n",
        "print(type(x_train))"
      ]
    },
    {
      "cell_type": "code",
      "execution_count": 22,
      "metadata": {
        "id": "3Sa_YynQrosq"
      },
      "outputs": [],
      "source": [
        "y_train = torch.tensor(y_train)\n",
        "y_val = torch.tensor(y_val)\n",
        "y_test = torch.tensor(y_test)"
      ]
    },
    {
      "cell_type": "code",
      "execution_count": 23,
      "metadata": {
        "id": "Wq9XE4k2JH6W"
      },
      "outputs": [],
      "source": [
        "from torch.utils.data import TensorDataset, DataLoader\n",
        "train_data = TensorDataset(x_train, y_train)\n",
        "valid_data = TensorDataset(x_val, y_val)\n",
        "test_data = TensorDataset(x_test, y_test)\n",
        "\n",
        "batch_size = 64\n",
        "trainloader = DataLoader(train_data, shuffle=True, batch_size=batch_size)\n",
        "valloader = DataLoader(valid_data, shuffle=False, batch_size=batch_size)\n",
        "testloader = DataLoader(train_data, shuffle=False, batch_size=batch_size)"
      ]
    },
    {
      "cell_type": "markdown",
      "source": [
        "## Sentiment model"
      ],
      "metadata": {
        "id": "_wSVh8bS1EDW"
      }
    },
    {
      "cell_type": "code",
      "execution_count": 66,
      "metadata": {
        "id": "ZuJixRC7raMQ"
      },
      "outputs": [],
      "source": [
        "from torch import nn\n",
        "\n",
        "class SentimentNET(nn.Module):\n",
        "    def __init__(self, num_words, embedding_dim= 128):\n",
        "        super(SentimentNET, self).__init__()\n",
        "\n",
        "        self.embedding = nn.Embedding(\n",
        "                                      num_embeddings=num_words,\n",
        "                                      embedding_dim=embedding_dim)\n",
        "        self.lstm = nn.LSTM(\n",
        "                            embedding_dim,\n",
        "                            256,\n",
        "                            num_layers = 2,\n",
        "                            batch_first=True,\n",
        "                             )\n",
        "        self.out = nn.Linear(512, 1)\n",
        "        self.act = nn.Sigmoid()\n",
        "\n",
        "    def forward(self, x):\n",
        "        x = self.embedding(x)\n",
        "        hidden, _ = self.lstm(x)\n",
        "\n",
        "        avg_pool= torch.mean(hidden, 1)\n",
        "        max_pool, index_max_pool = torch.max(hidden, 1)\n",
        "        out = torch.cat((avg_pool, max_pool), 1)\n",
        "\n",
        "        out = self.out(out)\n",
        "        out = self.act(out)\n",
        "        return out"
      ]
    },
    {
      "cell_type": "code",
      "execution_count": 63,
      "metadata": {
        "id": "sZAPQNXpnv1r"
      },
      "outputs": [],
      "source": [
        "# calculate accuracy\n",
        "def acc(pred,label):\n",
        "    pred = torch.round(pred.squeeze())\n",
        "    return torch.sum(pred == label.squeeze()).item()"
      ]
    },
    {
      "cell_type": "code",
      "execution_count": 64,
      "metadata": {
        "id": "bt49cZS47xb3"
      },
      "outputs": [],
      "source": [
        "def train(data_loader, model, criterion, optimizer, device):\n",
        "    train_loss, train_acc = 0, 0\n",
        "    model.train()\n",
        "\n",
        "    for reviews, targets in data_loader:\n",
        "        reviews, targets = reviews.to(device), targets.to(device)\n",
        "\n",
        "        model.zero_grad()\n",
        "        output = model(reviews)\n",
        "\n",
        "        # calculate the loss and backprop\n",
        "        loss = criterion(output.squeeze(), targets.float())\n",
        "        loss.backward()\n",
        "        train_loss += loss.item()\n",
        "\n",
        "        train_acc += acc(output, targets)\n",
        "\n",
        "        optimizer.step()\n",
        "\n",
        "    total_train_loss = train_loss/len(data_loader.dataset)\n",
        "    total_train_acc = train_acc/len(data_loader.dataset)\n",
        "\n",
        "    return total_train_loss, total_train_acc\n",
        "\n",
        "def evaluate(data_loader, model, device):\n",
        "    val_loss, val_acc = 0, 0\n",
        "    model.eval()\n",
        "\n",
        "    with torch.no_grad():\n",
        "        for reviews, targets in data_loader:\n",
        "            reviews, targets = reviews.to(device), targets.to(device)\n",
        "\n",
        "            output = model(reviews)\n",
        "            val_loss = criterion(output.squeeze(), targets.float())\n",
        "\n",
        "            val_loss += val_loss.item()\n",
        "            accuracy = acc(output, targets)\n",
        "            val_acc += accuracy\n",
        "\n",
        "        total_val_loss = val_loss/len(data_loader.dataset)\n",
        "        total_val_acc = val_acc/len(data_loader.dataset)\n",
        "\n",
        "    return total_val_loss, total_val_acc"
      ]
    },
    {
      "cell_type": "code",
      "execution_count": 67,
      "metadata": {
        "colab": {
          "base_uri": "https://localhost:8080/"
        },
        "id": "jnHLtVISBoFK",
        "outputId": "cc7c690a-57ce-49c6-904e-6240b44ce0d1"
      },
      "outputs": [
        {
          "output_type": "stream",
          "name": "stdout",
          "text": [
            "SentimentNET(\n",
            "  (embedding): Embedding(1001, 128)\n",
            "  (lstm): LSTM(128, 256, num_layers=2, batch_first=True)\n",
            "  (out): Linear(in_features=512, out_features=1, bias=True)\n",
            "  (act): Sigmoid()\n",
            ")\n"
          ]
        }
      ],
      "source": [
        "vocab_size = len(word_idx) + 1\n",
        "device = torch.device('cuda' if torch.cuda.is_available() else 'cpu')\n",
        "\n",
        "model = SentimentNET(vocab_size)\n",
        "model.to(device)\n",
        "print(model)\n",
        "\n",
        "criterion = nn.BCELoss()\n",
        "optimizer = torch.optim.Adam(model.parameters(), lr=1e-3)"
      ]
    },
    {
      "cell_type": "code",
      "source": [
        "# Training model\n",
        "for epoch in range(10):\n",
        "    train_loss, train_acc = train(trainloader, model, criterion, optimizer, device)\n",
        "    val_loss, val_acc = evaluate(valloader, model, device)\n",
        "\n",
        "    print(f'epoch: {epoch}, train_loss: {train_loss}, train_accuracy: {train_acc} --- val_loss: {val_loss}, val_accuracy: {val_acc}')"
      ],
      "metadata": {
        "colab": {
          "base_uri": "https://localhost:8080/"
        },
        "id": "QfDxkaJUAqcx",
        "outputId": "c2c02ac8-5c6c-491b-9a14-78810de99530"
      },
      "execution_count": 69,
      "outputs": [
        {
          "output_type": "stream",
          "name": "stdout",
          "text": [
            "epoch: 0, train_loss: 0.00656449656561017, train_accuracy: 0.801775 --- val_loss: 8.062597044045106e-05, val_accuracy: 0.8506\n",
            "epoch: 1, train_loss: 0.004963179950602353, train_accuracy: 0.8634 --- val_loss: 6.24522435828112e-05, val_accuracy: 0.8598\n",
            "epoch: 2, train_loss: 0.004301273058354854, train_accuracy: 0.8837 --- val_loss: 8.268506644526497e-05, val_accuracy: 0.8614\n",
            "epoch: 3, train_loss: 0.0035190666168928146, train_accuracy: 0.90945 --- val_loss: 3.6572921089828014e-05, val_accuracy: 0.8606\n",
            "epoch: 4, train_loss: 0.0024921371072530746, train_accuracy: 0.93885 --- val_loss: 2.498420508345589e-05, val_accuracy: 0.852\n",
            "epoch: 5, train_loss: 0.0013236775130499154, train_accuracy: 0.970075 --- val_loss: 3.738288796739653e-05, val_accuracy: 0.8502\n",
            "epoch: 6, train_loss: 0.0006424158472480485, train_accuracy: 0.9868 --- val_loss: 8.665454515721649e-06, val_accuracy: 0.8568\n",
            "epoch: 7, train_loss: 0.0004569782561273314, train_accuracy: 0.990275 --- val_loss: 5.047337253927253e-05, val_accuracy: 0.8528\n",
            "epoch: 8, train_loss: 0.0003374578046190436, train_accuracy: 0.9933 --- val_loss: 6.14967430010438e-05, val_accuracy: 0.851\n",
            "epoch: 9, train_loss: 0.00026689258542537573, train_accuracy: 0.994375 --- val_loss: 3.58891225005209e-06, val_accuracy: 0.8442\n"
          ]
        }
      ]
    },
    {
      "cell_type": "code",
      "execution_count": 70,
      "metadata": {
        "id": "IZbbWLgEJupc",
        "colab": {
          "base_uri": "https://localhost:8080/"
        },
        "outputId": "43402987-0ccf-43f5-bb10-514bba5a6f16"
      },
      "outputs": [
        {
          "output_type": "stream",
          "name": "stdout",
          "text": [
            "test_loss: 1.6369489230783074e-07, test_accuracy: 0.9963\n"
          ]
        }
      ],
      "source": [
        "# result on testset\n",
        "loss, accuracy = evaluate(testloader, model, device)\n",
        "\n",
        "print(f'test_loss: {loss}, test_accuracy: {accuracy}')"
      ]
    }
  ],
  "metadata": {
    "accelerator": "GPU",
    "colab": {
      "collapsed_sections": [
        "97npt38AHmeG",
        "iZ0KcfjJISHg",
        "N3DfTyhGIF2P",
        "eOzchEUJ0k2E"
      ],
      "gpuType": "T4",
      "provenance": []
    },
    "kernelspec": {
      "display_name": "Python 3",
      "name": "python3"
    },
    "language_info": {
      "name": "python"
    }
  },
  "nbformat": 4,
  "nbformat_minor": 0
}