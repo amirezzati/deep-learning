{
  "cells": [
    {
      "cell_type": "markdown",
      "metadata": {
        "id": "RERza1oQ89WU"
      },
      "source": [
        "<center><h1>In the name of Allah</h1></center>"
      ]
    },
    {
      "cell_type": "markdown",
      "metadata": {
        "id": "vOLZigs289Wi"
      },
      "source": [
        "Name: Amir Mohammad Ezzati\n",
        "\n",
        "Student Number: 402212269"
      ]
    },
    {
      "cell_type": "markdown",
      "metadata": {
        "id": "n_6eq1Is89Wo"
      },
      "source": [
        "In this notebook, you will explore adversarial attacks and training methods in deep learning. First, you will train a simple model, ResNet18, on the CIFAR-10 dataset. Next, you will learn about two different adversarial attacks: FGSM (Fast Gradient Sign Method) and PGD (Projected Gradient Descent). To enhance your understanding, you will implement the PGD attack from scratch, while the FGSM attack will be implemented using a library. After this, you will use the FGSM attack to generate adversarial examples and then perform adversarial training on the model using the CIFAR-10 dataset. Finally, you will compare the performance and robustness of the adversarially trained model with the original model.\n",
        "\n",
        "Good luck!"
      ]
    },
    {
      "cell_type": "markdown",
      "metadata": {
        "id": "NQBvFw5F89Ws"
      },
      "source": [
        "## outline\n",
        "- Train Resnet on CIFAR10\n",
        "- FGSM Attack using torchattacks\n",
        "- PGD Attack from scratch\n",
        "- Visualization\n",
        "- Adversarial Training\n"
      ]
    },
    {
      "cell_type": "code",
      "execution_count": 1,
      "metadata": {
        "id": "2xdQVlNiAZHV",
        "colab": {
          "base_uri": "https://localhost:8080/"
        },
        "outputId": "b8a98e25-7170-46c9-c24f-a419c856ca60"
      },
      "outputs": [
        {
          "output_type": "stream",
          "name": "stdout",
          "text": [
            "\u001b[?25l     \u001b[90m━━━━━━━━━━━━━━━━━━━━━━━━━━━━━━━━━━━━━━━━\u001b[0m \u001b[32m0.0/142.0 kB\u001b[0m \u001b[31m?\u001b[0m eta \u001b[36m-:--:--\u001b[0m\r\u001b[2K     \u001b[91m━━━━━━━━━━━━━━━━━━━━━━━━━\u001b[0m\u001b[91m╸\u001b[0m\u001b[90m━━━━━━━━━━━━━━\u001b[0m \u001b[32m92.2/142.0 kB\u001b[0m \u001b[31m3.1 MB/s\u001b[0m eta \u001b[36m0:00:01\u001b[0m\r\u001b[2K     \u001b[90m━━━━━━━━━━━━━━━━━━━━━━━━━━━━━━━━━━━━━━━━\u001b[0m \u001b[32m142.0/142.0 kB\u001b[0m \u001b[31m3.1 MB/s\u001b[0m eta \u001b[36m0:00:00\u001b[0m\n",
            "\u001b[2K     \u001b[90m━━━━━━━━━━━━━━━━━━━━━━━━━━━━━━━━━━━━━━━━\u001b[0m \u001b[32m61.2/61.2 kB\u001b[0m \u001b[31m7.2 MB/s\u001b[0m eta \u001b[36m0:00:00\u001b[0m\n",
            "\u001b[2K     \u001b[90m━━━━━━━━━━━━━━━━━━━━━━━━━━━━━━━━━━━━━━━━\u001b[0m \u001b[32m178.7/178.7 kB\u001b[0m \u001b[31m18.8 MB/s\u001b[0m eta \u001b[36m0:00:00\u001b[0m\n",
            "\u001b[2K     \u001b[90m━━━━━━━━━━━━━━━━━━━━━━━━━━━━━━━━━━━━━━━━\u001b[0m \u001b[32m58.8/58.8 kB\u001b[0m \u001b[31m6.8 MB/s\u001b[0m eta \u001b[36m0:00:00\u001b[0m\n",
            "\u001b[2K     \u001b[90m━━━━━━━━━━━━━━━━━━━━━━━━━━━━━━━━━━━━━━━━\u001b[0m \u001b[32m143.9/143.9 kB\u001b[0m \u001b[31m15.4 MB/s\u001b[0m eta \u001b[36m0:00:00\u001b[0m\n",
            "\u001b[2K     \u001b[90m━━━━━━━━━━━━━━━━━━━━━━━━━━━━━━━━━━━━━━━━\u001b[0m \u001b[32m21.3/21.3 MB\u001b[0m \u001b[31m61.3 MB/s\u001b[0m eta \u001b[36m0:00:00\u001b[0m\n",
            "\u001b[?25h\u001b[31mERROR: pip's dependency resolver does not currently take into account all the packages that are installed. This behaviour is the source of the following dependency conflicts.\n",
            "bigframes 1.9.0 requires requests>=2.27.1, but you have requests 2.25.1 which is incompatible.\n",
            "google-colab 1.0.0 requires requests==2.31.0, but you have requests 2.25.1 which is incompatible.\n",
            "tweepy 4.14.0 requires requests<3,>=2.27.0, but you have requests 2.25.1 which is incompatible.\n",
            "yfinance 0.2.40 requires requests>=2.31, but you have requests 2.25.1 which is incompatible.\u001b[0m\u001b[31m\n",
            "\u001b[0m"
          ]
        }
      ],
      "source": [
        "!pip install torchattacks -q"
      ]
    },
    {
      "cell_type": "code",
      "execution_count": 2,
      "metadata": {
        "id": "tX0zasmB89Wv"
      },
      "outputs": [],
      "source": [
        "import torch\n",
        "import torchvision\n",
        "import torchvision.transforms as transforms\n",
        "from torchvision.models import resnet18\n",
        "import torch.nn as nn\n",
        "import torch.nn.functional as F\n",
        "import torch.optim as optim\n",
        "import numpy as np\n",
        "from torch.autograd import Variable\n",
        "from tqdm import tqdm\n",
        "import torchattacks\n",
        "from torchvision.datasets import CIFAR10\n",
        "from torch.utils.data import DataLoader\n",
        "import matplotlib.pyplot as plt\n",
        "from PIL import Image\n",
        "import os"
      ]
    },
    {
      "cell_type": "code",
      "execution_count": 4,
      "metadata": {
        "colab": {
          "base_uri": "https://localhost:8080/"
        },
        "id": "WN4yo11YBJ_0",
        "outputId": "2453171a-a3dd-4b96-cd54-f803b8922f07"
      },
      "outputs": [
        {
          "output_type": "stream",
          "name": "stdout",
          "text": [
            "Mounted at /content/drive\n"
          ]
        }
      ],
      "source": [
        "from google.colab import drive\n",
        "drive.mount('/content/drive')\n",
        "data_path = '/content/drive/MyDrive/DL/HW5/'"
      ]
    },
    {
      "cell_type": "code",
      "execution_count": 5,
      "metadata": {
        "colab": {
          "base_uri": "https://localhost:8080/"
        },
        "id": "ErCEAPT489W0",
        "outputId": "88b50864-d03b-417a-af20-846c50211d64"
      },
      "outputs": [
        {
          "output_type": "stream",
          "name": "stdout",
          "text": [
            "cuda:0\n"
          ]
        }
      ],
      "source": [
        "device = 'cuda:0' if torch.cuda.is_available() else 'cpu'\n",
        "print(device)"
      ]
    },
    {
      "cell_type": "markdown",
      "metadata": {
        "id": "kaaSo_-v89W2"
      },
      "source": [
        "## Train Resnet on CIFAR10 (15 pts)"
      ]
    },
    {
      "cell_type": "code",
      "execution_count": 6,
      "metadata": {
        "colab": {
          "base_uri": "https://localhost:8080/"
        },
        "id": "sSz0LxMH89W4",
        "outputId": "fc641079-f2cd-4188-aca1-f7bf0ae33ceb"
      },
      "outputs": [
        {
          "output_type": "stream",
          "name": "stdout",
          "text": [
            "Downloading https://www.cs.toronto.edu/~kriz/cifar-10-python.tar.gz to data/cifar-10-python.tar.gz\n"
          ]
        },
        {
          "output_type": "stream",
          "name": "stderr",
          "text": [
            "100%|██████████| 170498071/170498071 [00:18<00:00, 9239754.02it/s]\n"
          ]
        },
        {
          "output_type": "stream",
          "name": "stdout",
          "text": [
            "Extracting data/cifar-10-python.tar.gz to data\n",
            "Files already downloaded and verified\n"
          ]
        }
      ],
      "source": [
        "# Prepare Cifar10 data\n",
        "batch_size = 128\n",
        "transform = transforms.Compose([transforms.ToTensor(),])\n",
        "\n",
        "##############################################################################\n",
        "# Prepare training and test datasets and dataloaders                         #\n",
        "##############################################################################\n",
        "trainset = CIFAR10(root=\"data\", train=True, download=True, transform=transform)\n",
        "trainloader = DataLoader(trainset, batch_size, shuffle=True)\n",
        "testset = torchvision.datasets.CIFAR10(root=\"data\", train=False, download=True, transform=transform)\n",
        "testloader = DataLoader(testset, batch_size, shuffle=False)\n",
        "################################ End #########################################\n",
        "\n",
        "classes = ('plane', 'car', 'bird', 'cat', 'deer', 'dog', 'frog', 'horse', 'ship', 'truck')"
      ]
    },
    {
      "cell_type": "code",
      "execution_count": 7,
      "metadata": {
        "id": "U-bp4_Y589W6"
      },
      "outputs": [],
      "source": [
        "# model architecture\n",
        "class resnet(nn.Module):\n",
        "  def __init__(self, num_cls):\n",
        "    super().__init__()\n",
        "    self.conv = nn.Sequential(*list(resnet18(weights=None).children())[:-2])\n",
        "    self.fc = nn.Linear(512, num_cls)\n",
        "\n",
        "  def forward(self, x):\n",
        "    x = self.conv(x)\n",
        "    x = torch.flatten(x, start_dim=1)\n",
        "    logits = self.fc(x)\n",
        "    return logits\n",
        "\n",
        "##############################################################################\n",
        "# Initialize model and move to device                                        #\n",
        "##############################################################################\n",
        "model = resnet(len(classes)).to(device)\n",
        "\n",
        "################################ End #########################################"
      ]
    },
    {
      "cell_type": "code",
      "execution_count": null,
      "metadata": {
        "id": "gPyjrZdz89XA"
      },
      "outputs": [],
      "source": [
        "learning_rate = 0.01\n",
        "criterion = nn.CrossEntropyLoss()\n",
        "optimizer = optim.SGD(model.parameters(), lr=learning_rate, momentum=0.9)\n",
        "epochs = 100"
      ]
    },
    {
      "cell_type": "code",
      "execution_count": null,
      "metadata": {
        "colab": {
          "base_uri": "https://localhost:8080/"
        },
        "id": "mMCEnhaK89XD",
        "outputId": "78352d38-14e7-4c3a-9b34-5fbff94fc076"
      },
      "outputs": [
        {
          "name": "stderr",
          "output_type": "stream",
          "text": [
            "/usr/local/lib/python3.10/dist-packages/torch/autograd/graph.py:744: UserWarning: Plan failed with a cudnnException: CUDNN_BACKEND_EXECUTION_PLAN_DESCRIPTOR: cudnnFinalize Descriptor Failed cudnn_status: CUDNN_STATUS_NOT_SUPPORTED (Triggered internally at ../aten/src/ATen/native/cudnn/Conv_v8.cpp:919.)\n",
            "  return Variable._execution_engine.run_backward(  # Calls into the C++ engine to run the backward pass\n"
          ]
        },
        {
          "name": "stdout",
          "output_type": "stream",
          "text": [
            "Epoch [1/100] - Train Loss: 1.5406 - Train Accuracy: 45.0000\n",
            "Epoch [2/100] - Train Loss: 1.1333 - Train Accuracy: 59.8380\n",
            "Epoch [3/100] - Train Loss: 0.9448 - Train Accuracy: 66.7640\n",
            "Epoch [4/100] - Train Loss: 0.7848 - Train Accuracy: 72.4120\n",
            "Epoch [5/100] - Train Loss: 0.6608 - Train Accuracy: 76.6820\n",
            "Epoch [6/100] - Train Loss: 0.5561 - Train Accuracy: 80.4480\n",
            "Epoch [7/100] - Train Loss: 0.4597 - Train Accuracy: 83.8000\n",
            "Epoch [8/100] - Train Loss: 0.3761 - Train Accuracy: 86.7540\n",
            "Epoch [9/100] - Train Loss: 0.3069 - Train Accuracy: 89.2420\n",
            "Epoch [10/100] - Train Loss: 0.2550 - Train Accuracy: 91.0200\n",
            "Epoch [11/100] - Train Loss: 0.2161 - Train Accuracy: 92.3280\n",
            "Epoch [12/100] - Train Loss: 0.1798 - Train Accuracy: 93.5400\n",
            "Epoch [13/100] - Train Loss: 0.1421 - Train Accuracy: 94.8280\n",
            "Epoch [14/100] - Train Loss: 0.1279 - Train Accuracy: 95.4180\n",
            "Epoch [15/100] - Train Loss: 0.1013 - Train Accuracy: 96.4400\n",
            "Epoch [16/100] - Train Loss: 0.0884 - Train Accuracy: 96.9180\n",
            "Epoch [17/100] - Train Loss: 0.0735 - Train Accuracy: 97.3840\n",
            "Epoch [18/100] - Train Loss: 0.0637 - Train Accuracy: 97.8300\n",
            "Epoch [19/100] - Train Loss: 0.0587 - Train Accuracy: 97.9680\n",
            "Epoch [20/100] - Train Loss: 0.0562 - Train Accuracy: 97.9740\n",
            "Epoch [21/100] - Train Loss: 0.0510 - Train Accuracy: 98.2400\n",
            "Epoch [22/100] - Train Loss: 0.0485 - Train Accuracy: 98.2540\n",
            "Epoch [23/100] - Train Loss: 0.0415 - Train Accuracy: 98.5940\n",
            "Epoch [24/100] - Train Loss: 0.0351 - Train Accuracy: 98.8080\n",
            "Epoch [25/100] - Train Loss: 0.0329 - Train Accuracy: 98.8580\n",
            "Epoch [26/100] - Train Loss: 0.0349 - Train Accuracy: 98.7700\n",
            "Epoch [27/100] - Train Loss: 0.0358 - Train Accuracy: 98.8060\n",
            "Epoch [28/100] - Train Loss: 0.0269 - Train Accuracy: 99.0960\n",
            "Epoch [29/100] - Train Loss: 0.0294 - Train Accuracy: 98.9720\n",
            "Epoch [30/100] - Train Loss: 0.0189 - Train Accuracy: 99.3940\n",
            "Epoch [31/100] - Train Loss: 0.0227 - Train Accuracy: 99.2200\n",
            "Epoch [32/100] - Train Loss: 0.0225 - Train Accuracy: 99.2120\n",
            "Epoch [33/100] - Train Loss: 0.0206 - Train Accuracy: 99.3000\n",
            "Epoch [34/100] - Train Loss: 0.0210 - Train Accuracy: 99.2820\n",
            "Epoch [35/100] - Train Loss: 0.0124 - Train Accuracy: 99.5920\n",
            "Epoch [36/100] - Train Loss: 0.0118 - Train Accuracy: 99.6360\n",
            "Epoch [37/100] - Train Loss: 0.0100 - Train Accuracy: 99.6840\n",
            "Epoch [38/100] - Train Loss: 0.0107 - Train Accuracy: 99.6380\n",
            "Epoch [39/100] - Train Loss: 0.0157 - Train Accuracy: 99.5020\n",
            "Epoch [40/100] - Train Loss: 0.0130 - Train Accuracy: 99.5620\n",
            "Epoch [41/100] - Train Loss: 0.0110 - Train Accuracy: 99.6260\n",
            "Epoch [42/100] - Train Loss: 0.0120 - Train Accuracy: 99.5680\n",
            "Epoch [43/100] - Train Loss: 0.0149 - Train Accuracy: 99.4820\n",
            "Epoch [44/100] - Train Loss: 0.0128 - Train Accuracy: 99.5340\n",
            "Epoch [45/100] - Train Loss: 0.0106 - Train Accuracy: 99.6660\n",
            "Epoch [46/100] - Train Loss: 0.0160 - Train Accuracy: 99.4320\n",
            "Epoch [47/100] - Train Loss: 0.0169 - Train Accuracy: 99.4120\n",
            "Epoch [48/100] - Train Loss: 0.0152 - Train Accuracy: 99.4680\n",
            "Epoch [49/100] - Train Loss: 0.0127 - Train Accuracy: 99.5860\n",
            "Epoch [50/100] - Train Loss: 0.0077 - Train Accuracy: 99.7480\n",
            "Epoch [51/100] - Train Loss: 0.0060 - Train Accuracy: 99.8020\n",
            "Epoch [52/100] - Train Loss: 0.0035 - Train Accuracy: 99.8880\n",
            "Epoch [53/100] - Train Loss: 0.0021 - Train Accuracy: 99.9440\n",
            "Epoch [54/100] - Train Loss: 0.0016 - Train Accuracy: 99.9580\n",
            "Epoch [55/100] - Train Loss: 0.0018 - Train Accuracy: 99.9420\n",
            "Epoch [56/100] - Train Loss: 0.0014 - Train Accuracy: 99.9600\n",
            "Epoch [57/100] - Train Loss: 0.0006 - Train Accuracy: 99.9900\n",
            "Epoch [58/100] - Train Loss: 0.0005 - Train Accuracy: 99.9900\n",
            "Epoch [59/100] - Train Loss: 0.0005 - Train Accuracy: 99.9880\n",
            "Epoch [60/100] - Train Loss: 0.0003 - Train Accuracy: 100.0000\n",
            "Epoch [61/100] - Train Loss: 0.0003 - Train Accuracy: 99.9920\n",
            "Epoch [62/100] - Train Loss: 0.0010 - Train Accuracy: 99.9700\n",
            "Epoch [63/100] - Train Loss: 0.0039 - Train Accuracy: 99.8720\n",
            "Epoch [64/100] - Train Loss: 0.0024 - Train Accuracy: 99.9320\n",
            "Epoch [65/100] - Train Loss: 0.0040 - Train Accuracy: 99.8700\n",
            "Epoch [66/100] - Train Loss: 0.0076 - Train Accuracy: 99.7380\n",
            "Epoch [67/100] - Train Loss: 0.0111 - Train Accuracy: 99.6380\n",
            "Epoch [68/100] - Train Loss: 0.0175 - Train Accuracy: 99.4320\n",
            "Epoch [69/100] - Train Loss: 0.0200 - Train Accuracy: 99.3940\n",
            "Epoch [70/100] - Train Loss: 0.0114 - Train Accuracy: 99.6340\n",
            "Epoch [71/100] - Train Loss: 0.0091 - Train Accuracy: 99.6680\n",
            "Epoch [72/100] - Train Loss: 0.0067 - Train Accuracy: 99.7800\n",
            "Epoch [73/100] - Train Loss: 0.0060 - Train Accuracy: 99.8100\n",
            "Epoch [74/100] - Train Loss: 0.0031 - Train Accuracy: 99.9080\n",
            "Epoch [75/100] - Train Loss: 0.0020 - Train Accuracy: 99.9420\n",
            "Epoch [76/100] - Train Loss: 0.0015 - Train Accuracy: 99.9680\n",
            "Epoch [77/100] - Train Loss: 0.0015 - Train Accuracy: 99.9540\n",
            "Epoch [78/100] - Train Loss: 0.0018 - Train Accuracy: 99.9500\n",
            "Epoch [79/100] - Train Loss: 0.0008 - Train Accuracy: 99.9820\n",
            "Epoch [80/100] - Train Loss: 0.0005 - Train Accuracy: 99.9900\n",
            "Epoch [81/100] - Train Loss: 0.0006 - Train Accuracy: 99.9860\n",
            "Epoch [82/100] - Train Loss: 0.0005 - Train Accuracy: 99.9860\n",
            "Epoch [83/100] - Train Loss: 0.0005 - Train Accuracy: 99.9900\n",
            "Epoch [84/100] - Train Loss: 0.0002 - Train Accuracy: 99.9960\n",
            "Epoch [85/100] - Train Loss: 0.0001 - Train Accuracy: 100.0000\n",
            "Epoch [86/100] - Train Loss: 0.0001 - Train Accuracy: 100.0000\n",
            "Epoch [87/100] - Train Loss: 0.0002 - Train Accuracy: 99.9960\n",
            "Epoch [88/100] - Train Loss: 0.0001 - Train Accuracy: 99.9980\n",
            "Epoch [89/100] - Train Loss: 0.0003 - Train Accuracy: 99.9940\n",
            "Epoch [90/100] - Train Loss: 0.0001 - Train Accuracy: 100.0000\n",
            "Epoch [91/100] - Train Loss: 0.0001 - Train Accuracy: 100.0000\n",
            "Epoch [92/100] - Train Loss: 0.0001 - Train Accuracy: 100.0000\n",
            "Epoch [93/100] - Train Loss: 0.0000 - Train Accuracy: 100.0000\n",
            "Epoch [94/100] - Train Loss: 0.0001 - Train Accuracy: 100.0000\n",
            "Epoch [95/100] - Train Loss: 0.0000 - Train Accuracy: 100.0000\n",
            "Epoch [96/100] - Train Loss: 0.0000 - Train Accuracy: 100.0000\n",
            "Epoch [97/100] - Train Loss: 0.0000 - Train Accuracy: 100.0000\n",
            "Epoch [98/100] - Train Loss: 0.0000 - Train Accuracy: 100.0000\n",
            "Epoch [99/100] - Train Loss: 0.0001 - Train Accuracy: 99.9980\n",
            "Epoch [100/100] - Train Loss: 0.0000 - Train Accuracy: 100.0000\n"
          ]
        }
      ],
      "source": [
        "##############################################################################\n",
        "# Implement train loop and log training loss after each epoch                #\n",
        "##############################################################################\n",
        "\n",
        "def train_epoch(net, criterion, optimizer, dataloader):\n",
        "    net.train()\n",
        "    running_loss = 0\n",
        "    correct = 0\n",
        "    total = 0\n",
        "    for batch_idx, (inputs, targets) in enumerate(dataloader):\n",
        "        inputs, targets = inputs.to(device), targets.to(device)\n",
        "\n",
        "        optimizer.zero_grad()\n",
        "\n",
        "        outputs = net(inputs)\n",
        "        loss = criterion(outputs, targets)\n",
        "        loss.backward()\n",
        "\n",
        "        optimizer.step()\n",
        "\n",
        "        running_loss += loss.item()\n",
        "        _, predicted = outputs.max(1)\n",
        "        total += targets.size(0)\n",
        "        correct += predicted.eq(targets).sum().item()\n",
        "\n",
        "    loss = running_loss / len(dataloader)\n",
        "    accuracy = 100. * correct/total\n",
        "    return loss, accuracy\n",
        "\n",
        "\n",
        "for epoch in range(epochs):\n",
        "    train_loss, train_acc = train_epoch(model, criterion, optimizer, trainloader)\n",
        "    print(f'Epoch [{epoch+1}/{epochs}] - '\n",
        "          f'Train Loss: {train_loss:.4f} - '\n",
        "          f'Train Accuracy: {train_acc:.4f}')\n",
        "\n",
        "################################ End #########################################"
      ]
    },
    {
      "cell_type": "code",
      "execution_count": null,
      "metadata": {
        "colab": {
          "base_uri": "https://localhost:8080/"
        },
        "id": "_V6oZa4H89XH",
        "outputId": "4ed6edc2-ba9f-41fb-c907-936745d02538"
      },
      "outputs": [
        {
          "name": "stdout",
          "output_type": "stream",
          "text": [
            "Test Loss: 2.2473 - Test Accuracy: 74.9100\n"
          ]
        },
        {
          "name": "stderr",
          "output_type": "stream",
          "text": [
            "/usr/local/lib/python3.10/dist-packages/torch/nn/modules/conv.py:456: UserWarning: Plan failed with a cudnnException: CUDNN_BACKEND_EXECUTION_PLAN_DESCRIPTOR: cudnnFinalize Descriptor Failed cudnn_status: CUDNN_STATUS_NOT_SUPPORTED (Triggered internally at ../aten/src/ATen/native/cudnn/Conv_v8.cpp:919.)\n",
            "  return F.conv2d(input, weight, bias, self.stride,\n"
          ]
        }
      ],
      "source": [
        "##############################################################################\n",
        "# Evaluate the trained model on test set and print test accuracy             #\n",
        "##############################################################################\n",
        "\n",
        "def eval_epoch(net, criterion, dataloader):\n",
        "    net.eval()\n",
        "    running_loss = 0\n",
        "    correct = 0\n",
        "    total = 0\n",
        "    with torch.no_grad():\n",
        "        for batch_idx, (inputs, targets) in enumerate(dataloader):\n",
        "            inputs, targets = inputs.to(device), targets.to(device)\n",
        "            outputs = net(inputs)\n",
        "            loss = criterion(outputs, targets)\n",
        "\n",
        "            running_loss += loss.item()\n",
        "            _, predicted = outputs.max(1)\n",
        "            total += targets.size(0)\n",
        "            correct += predicted.eq(targets).sum().item()\n",
        "\n",
        "    loss = running_loss / len(dataloader)\n",
        "    accuracy = 100. * correct/total\n",
        "    return loss, accuracy\n",
        "\n",
        "\n",
        "test_loss, test_acc = eval_epoch(model, criterion, testloader)\n",
        "print(f'Test Loss: {test_loss:.4f} - Test Accuracy: {test_acc:.4f}')\n",
        "\n",
        "################################ End #########################################"
      ]
    },
    {
      "cell_type": "code",
      "execution_count": null,
      "metadata": {
        "id": "dI8MGsOh89XJ"
      },
      "outputs": [],
      "source": [
        "# Save model\n",
        "model.eval()\n",
        "model_name = \"resnet18_cifar10_model_pretrained.pth\"\n",
        "model_PATH = data_path+ model_name\n",
        "torch.save(model.state_dict(), model_PATH)"
      ]
    },
    {
      "cell_type": "markdown",
      "metadata": {
        "id": "p3yUvn4s89XK"
      },
      "source": [
        "## FGSM Attack using torchattacks (10 pts)"
      ]
    },
    {
      "cell_type": "markdown",
      "metadata": {
        "id": "CG6yEViv89XL"
      },
      "source": [
        "In this section you should run FGSM attack using torchattacks library (https://adversarial-attacks-pytorch.readthedocs.io/en/latest/index.html).\n",
        "\n",
        "Run the attack for $\\epsilon \\in \\{\\frac{1}{255}, \\frac{4}{255}, \\frac{8}{255},\\}$ report the performance of the model on untargeted FGSM attack on the test data."
      ]
    },
    {
      "cell_type": "code",
      "execution_count": 21,
      "metadata": {
        "colab": {
          "base_uri": "https://localhost:8080/"
        },
        "id": "qjS99RcrHQDB",
        "outputId": "9389b048-610c-41c5-d882-9527d79d4f59"
      },
      "outputs": [
        {
          "output_type": "execute_result",
          "data": {
            "text/plain": [
              "<All keys matched successfully>"
            ]
          },
          "metadata": {},
          "execution_count": 21
        }
      ],
      "source": [
        "model = resnet(len(classes)).to(device)\n",
        "\n",
        "model_path = data_path + \"resnet18_cifar10_model_pretrained.pth\"\n",
        "model.load_state_dict(torch.load(model_path))"
      ]
    },
    {
      "cell_type": "code",
      "execution_count": 19,
      "metadata": {
        "id": "UILkV8SFKfDq"
      },
      "outputs": [],
      "source": [
        "def eval_attack(net, dataloader, attack):\n",
        "    net.eval()\n",
        "    correct = 0\n",
        "\n",
        "    for image, target in tqdm(dataloader):\n",
        "        # normal image\n",
        "        image, target = image.to(device), target.to(device)\n",
        "        image.requires_grad = True\n",
        "        output = net(image)\n",
        "        _, pred = output.max(1)\n",
        "\n",
        "        # if the prediction of normal is wrong, skip this one\n",
        "        if pred.item() != target.item():\n",
        "            continue\n",
        "\n",
        "        # attack\n",
        "        eps_image = attack(image, target)\n",
        "        output = net(eps_image)\n",
        "        _, eps_pred = output.max(1)\n",
        "\n",
        "        # check if the prediction is correct\n",
        "        if eps_pred.item() == target.item():\n",
        "            correct += 1\n",
        "\n",
        "    acc = correct / len(dataloader)\n",
        "    return acc\n",
        "\n",
        "testloader_attack =  DataLoader(testset, batch_size=1)"
      ]
    },
    {
      "cell_type": "code",
      "source": [
        "from torchattacks.attacks.fgsm import FGSM"
      ],
      "metadata": {
        "id": "D9UO8Hf9anbY"
      },
      "execution_count": 9,
      "outputs": []
    },
    {
      "cell_type": "code",
      "execution_count": null,
      "metadata": {
        "colab": {
          "base_uri": "https://localhost:8080/"
        },
        "id": "x29aFkVg89XN",
        "outputId": "6c06709d-3a68-42c3-c62d-684eb51440c9"
      },
      "outputs": [
        {
          "name": "stderr",
          "output_type": "stream",
          "text": [
            "100%|██████████| 10000/10000 [01:54<00:00, 87.30it/s]"
          ]
        },
        {
          "name": "stdout",
          "output_type": "stream",
          "text": [
            "\n",
            "Test Accuracy: 0.531\n"
          ]
        },
        {
          "name": "stderr",
          "output_type": "stream",
          "text": [
            "\n"
          ]
        }
      ],
      "source": [
        "##############################################################################\n",
        "# run untargeted FGSM attack for epsilon = 1/255 and report its accuracy     #\n",
        "##############################################################################\n",
        "from torchattacks.attacks.fgsm import FGSM\n",
        "\n",
        "fgsm_1 = FGSM(model, eps=1/255)\n",
        "acc = eval_attack(model, testloader_attack, fgsm_1)\n",
        "\n",
        "print(f\"\\nTest Accuracy: {acc}\")\n",
        "################################ End #########################################"
      ]
    },
    {
      "cell_type": "code",
      "execution_count": null,
      "metadata": {
        "colab": {
          "base_uri": "https://localhost:8080/"
        },
        "id": "wihpEokQ89XP",
        "outputId": "c9f7afa9-1685-4ff1-bf9f-2c0739b2f8da"
      },
      "outputs": [
        {
          "name": "stderr",
          "output_type": "stream",
          "text": [
            "100%|██████████| 10000/10000 [01:56<00:00, 86.18it/s]"
          ]
        },
        {
          "name": "stdout",
          "output_type": "stream",
          "text": [
            "\n",
            "Test Accuracy: 0.2377\n"
          ]
        },
        {
          "name": "stderr",
          "output_type": "stream",
          "text": [
            "\n"
          ]
        }
      ],
      "source": [
        "##############################################################################\n",
        "# run untargeted FGSM attack for epsilon = 4/255 and report its accuracy     #\n",
        "##############################################################################\n",
        "\n",
        "fgsm_2 = FGSM(model, eps=4/255)\n",
        "acc = eval_attack(model, testloader_attack, fgsm_2)\n",
        "\n",
        "print(f\"\\nTest Accuracy: {acc}\")\n",
        "################################ End #########################################"
      ]
    },
    {
      "cell_type": "code",
      "execution_count": null,
      "metadata": {
        "colab": {
          "base_uri": "https://localhost:8080/"
        },
        "id": "20WMizyY89XQ",
        "outputId": "34e3c1f4-ea20-4847-f818-2fc1d0d30ecb"
      },
      "outputs": [
        {
          "name": "stderr",
          "output_type": "stream",
          "text": [
            "100%|██████████| 10000/10000 [01:56<00:00, 86.02it/s]"
          ]
        },
        {
          "name": "stdout",
          "output_type": "stream",
          "text": [
            "\n",
            "Test Accuracy: 0.113\n"
          ]
        },
        {
          "name": "stderr",
          "output_type": "stream",
          "text": [
            "\n"
          ]
        }
      ],
      "source": [
        "##############################################################################\n",
        "# run untargeted FGSM attack for epsilon = 8/255 and report its accuracy     #\n",
        "##############################################################################\n",
        "\n",
        "fgsm_3 = FGSM(model, eps=8/255)\n",
        "acc = eval_attack(model, testloader_attack, fgsm_3)\n",
        "\n",
        "print(f\"\\nTest Accuracy: {acc}\")\n",
        "################################ End #########################################"
      ]
    },
    {
      "cell_type": "markdown",
      "metadata": {
        "id": "5rJACRqS89XS"
      },
      "source": [
        "## PGD Attack from scratch (30 pts)"
      ]
    },
    {
      "cell_type": "markdown",
      "metadata": {
        "id": "FxxKuzZ-89XT"
      },
      "source": [
        "In this section you should implement PGD attack from scratch."
      ]
    },
    {
      "cell_type": "code",
      "execution_count": 11,
      "metadata": {
        "id": "Ao50slFw89XU"
      },
      "outputs": [],
      "source": [
        "class LinfPGDAttack(object):\n",
        "\n",
        "    def __init__(self, model, epsilon = 8/255, k = 2, alpha = 2/255):\n",
        "        self.model = model\n",
        "        self.epsilon = epsilon\n",
        "        self.steps = k\n",
        "        self.alpha = alpha\n",
        "\n",
        "    def __call__(self, image, label):\n",
        "\n",
        "        image = image.to(device)\n",
        "        label = label.to(device)\n",
        "\n",
        "        out = self.model(image)\n",
        "        _, pred = torch.max(out, 1)\n",
        "\n",
        "        perturbed_image = image.clone()\n",
        "        perturbed_image.to(device)\n",
        "\n",
        "        if pred.item() == label.item():\n",
        "            ##############################################################################\n",
        "            # Implement a k step PGD attack of size alpha                                #\n",
        "            # while always staying within epsilon distance from the initial point        #\n",
        "            # Use cross entropy loss                                                     #\n",
        "            ##############################################################################\n",
        "\n",
        "            for i in range(self.steps):\n",
        "              perturbed_image = perturbed_image.clone().detach().requires_grad_(True)\n",
        "              output = model(perturbed_image)\n",
        "\n",
        "              # loss & update adversarial images\n",
        "              loss = F.cross_entropy(output, label)\n",
        "              grad = torch.autograd.grad(loss, perturbed_image, retain_graph=False, create_graph=False)[0]\n",
        "\n",
        "              with torch.no_grad():\n",
        "                perturbed_image = perturbed_image.detach() + self.alpha * grad.sign()\n",
        "                delta = torch.clamp(perturbed_image - image, min=-self.epsilon, max=self.epsilon)\n",
        "                adv_images = torch.clamp(image + delta, min=0, max=1).detach()\n",
        "\n",
        "            ################################ End #########################################\n",
        "\n",
        "        return perturbed_image"
      ]
    },
    {
      "cell_type": "code",
      "execution_count": 11,
      "metadata": {
        "colab": {
          "base_uri": "https://localhost:8080/"
        },
        "id": "wycw6ckE89XV",
        "outputId": "96dcd776-55ed-47d3-e71f-4ad21eb0527a"
      },
      "outputs": [
        {
          "output_type": "stream",
          "name": "stderr",
          "text": [
            "100%|██████████| 10000/10000 [03:00<00:00, 55.47it/s]\n"
          ]
        },
        {
          "output_type": "stream",
          "name": "stdout",
          "text": [
            "\n",
            "k=2 -------- Test Accuracy: 0.1646\n"
          ]
        },
        {
          "output_type": "stream",
          "name": "stderr",
          "text": [
            "100%|██████████| 10000/10000 [04:24<00:00, 37.79it/s]\n"
          ]
        },
        {
          "output_type": "stream",
          "name": "stdout",
          "text": [
            "\n",
            "k=4 -------- Test Accuracy: 0.0275\n"
          ]
        },
        {
          "output_type": "stream",
          "name": "stderr",
          "text": [
            "100%|██████████| 10000/10000 [07:19<00:00, 22.73it/s]"
          ]
        },
        {
          "output_type": "stream",
          "name": "stdout",
          "text": [
            "\n",
            "k=8 -------- Test Accuracy: 0.0011\n"
          ]
        },
        {
          "output_type": "stream",
          "name": "stderr",
          "text": [
            "\n"
          ]
        }
      ],
      "source": [
        "##############################################################################\n",
        "# Evaluate PGD attack on the trained model with k=2,4,8                      #\n",
        "##############################################################################\n",
        "\n",
        "k_list = [2,4,8]\n",
        "\n",
        "##############################################################################\n",
        "\n",
        "for k in k_list:\n",
        "  pgd = LinfPGDAttack(model, k=k)\n",
        "  acc = eval_attack(model, testloader_attack, pgd)\n",
        "\n",
        "  print(f\"\\nk={k} -------- Test Accuracy: {acc}\")\n",
        "\n",
        "################################ End #########################################"
      ]
    },
    {
      "cell_type": "markdown",
      "metadata": {
        "id": "1dbelgJe89XW"
      },
      "source": [
        "## Visualization (10 pts)"
      ]
    },
    {
      "cell_type": "markdown",
      "metadata": {
        "id": "rKvJaOMO89XX"
      },
      "source": [
        "Implement a function to plot the original image, the perturbed imaged and their predicted labels by the model"
      ]
    },
    {
      "cell_type": "code",
      "execution_count": null,
      "metadata": {
        "id": "sRkIefkW89XY"
      },
      "outputs": [],
      "source": [
        "##############################################################################\n",
        "# Implement the function described                                           #\n",
        "##############################################################################\n",
        "\n",
        "def random_visualize(model, data, attack, k=3):\n",
        "  model.eval()\n",
        "  indices = np.random.randint(0, len(data)-1, k)\n",
        "  fig, axs = plt.subplots(k, 2, figsize=(4, 2*k))\n",
        "  for k, i in enumerate(indices):\n",
        "      image, target = data[i]\n",
        "      image, target = image.unsqueeze(0).to(device), torch.tensor([target]).to(device)\n",
        "\n",
        "      eps_image = attack(image, target)\n",
        "      output = model(eps_image)\n",
        "      _, eps_pred = output.max(1)\n",
        "\n",
        "      axs[k][0].set_title(f\"original: {classes[int(target)]}\")\n",
        "      axs[k][0].imshow(torch.permute(image.squeeze(), dims=(1,2,0)))\n",
        "\n",
        "      axs[k][1].set_title(f\"perturbed: {classes[int(eps_pred)]}\")\n",
        "      axs[k][1].imshow(torch.permute(eps_image.squeeze(), dims=(1,2,0)))\n",
        "\n",
        "  for ax in axs.flat:\n",
        "      ax.axis(\"off\")\n",
        "\n",
        "  plt.tight_layout()\n",
        "  plt.show()\n",
        "\n",
        "################################ End #########################################"
      ]
    },
    {
      "cell_type": "code",
      "execution_count": null,
      "metadata": {
        "colab": {
          "base_uri": "https://localhost:8080/",
          "height": 627
        },
        "id": "HOPUErjH89XZ",
        "outputId": "6f17f2f7-e58b-4385-eb5f-69b2ac94eda5"
      },
      "outputs": [
        {
          "data": {
            "image/png": "[encoded data removed]",
            "text/plain": [
              "<Figure size 400x600 with 6 Axes>"
            ]
          },
          "metadata": {},
          "output_type": "display_data"
        }
      ],
      "source": [
        "##############################################################################\n",
        "# Choose 3 random images from testset and run FGSM attack and visualize      #\n",
        "##############################################################################\n",
        "from torchattacks.attacks.fgsm import FGSM\n",
        "\n",
        "fgsm = FGSM(model, eps=8/255)\n",
        "random_visualize(model, testset, fgsm)\n",
        "\n",
        "################################ End #########################################"
      ]
    },
    {
      "cell_type": "code",
      "execution_count": null,
      "metadata": {
        "colab": {
          "base_uri": "https://localhost:8080/",
          "height": 662
        },
        "id": "JTDSV62A89Xb",
        "outputId": "0eaca3be-685d-4099-c4fb-628d78bb77fe"
      },
      "outputs": [
        {
          "name": "stderr",
          "output_type": "stream",
          "text": [
            "WARNING:matplotlib.image:Clipping input data to the valid range for imshow with RGB data ([0..1] for floats or [0..255] for integers).\n",
            "WARNING:matplotlib.image:Clipping input data to the valid range for imshow with RGB data ([0..1] for floats or [0..255] for integers).\n"
          ]
        },
        {
          "data": {
            "image/png": "[encoded data removed]",
            "text/plain": [
              "<Figure size 400x600 with 6 Axes>"
            ]
          },
          "metadata": {},
          "output_type": "display_data"
        }
      ],
      "source": [
        "##############################################################################\n",
        "# Choose 3 random images from testset and run PGD attack and visualize      #\n",
        "##############################################################################\n",
        "\n",
        "pgd = LinfPGDAttack(model, k=4)\n",
        "random_visualize(model, testset, pgd)\n",
        "\n",
        "################################ End #########################################"
      ]
    },
    {
      "cell_type": "markdown",
      "metadata": {
        "id": "n4GaP1eY89Xc"
      },
      "source": [
        "## Adversarial Training (35 pts)"
      ]
    },
    {
      "cell_type": "markdown",
      "metadata": {
        "id": "iVLnHAvu89Xd"
      },
      "source": [
        "In this section you are going to adversarially train your model and see the results."
      ]
    },
    {
      "cell_type": "code",
      "execution_count": null,
      "metadata": {
        "id": "Tvf-MKJ5oU7K"
      },
      "outputs": [],
      "source": [
        "def train_epoch_adversarial(net, criterion, optimizer, dataloader, attack):\n",
        "    net.train()\n",
        "    running_loss = 0\n",
        "    correct = 0\n",
        "    total = 0\n",
        "    for batch_idx, (inputs, targets) in enumerate(dataloader):\n",
        "        inputs, targets = inputs.to(device), targets.to(device)\n",
        "        eps_inputs = attack(inputs, targets)\n",
        "\n",
        "        optimizer.zero_grad()\n",
        "\n",
        "        outputs = net(eps_inputs)\n",
        "        loss = criterion(outputs, targets)\n",
        "        loss.backward()\n",
        "\n",
        "        optimizer.step()\n",
        "\n",
        "        running_loss += loss.item()\n",
        "        _, predicted = outputs.max(1)\n",
        "        total += targets.size(0)\n",
        "        correct += predicted.eq(targets).sum().item()\n",
        "\n",
        "    loss = running_loss / len(dataloader)\n",
        "    accuracy = 100. * correct/total\n",
        "    return loss, accuracy"
      ]
    },
    {
      "cell_type": "code",
      "execution_count": null,
      "metadata": {
        "id": "N7kXHd2889Xe",
        "colab": {
          "base_uri": "https://localhost:8080/"
        },
        "outputId": "c0a83fa4-a683-44a0-f7e9-99ffe922f538"
      },
      "outputs": [
        {
          "output_type": "stream",
          "name": "stderr",
          "text": [
            "/usr/local/lib/python3.10/dist-packages/torch/autograd/graph.py:744: UserWarning: Plan failed with a cudnnException: CUDNN_BACKEND_EXECUTION_PLAN_DESCRIPTOR: cudnnFinalize Descriptor Failed cudnn_status: CUDNN_STATUS_NOT_SUPPORTED (Triggered internally at ../aten/src/ATen/native/cudnn/Conv_v8.cpp:919.)\n",
            "  return Variable._execution_engine.run_backward(  # Calls into the C++ engine to run the backward pass\n"
          ]
        },
        {
          "output_type": "stream",
          "name": "stdout",
          "text": [
            "Epoch [1/100] - Train Loss: 2.1162 - Train Accuracy: 21.5820\n",
            "Epoch [2/100] - Train Loss: 1.9923 - Train Accuracy: 25.3620\n",
            "Epoch [3/100] - Train Loss: 1.9258 - Train Accuracy: 27.7300\n",
            "Epoch [4/100] - Train Loss: 1.8780 - Train Accuracy: 29.2660\n",
            "Epoch [5/100] - Train Loss: 1.8381 - Train Accuracy: 30.6480\n",
            "Epoch [6/100] - Train Loss: 1.8069 - Train Accuracy: 31.5960\n",
            "Epoch [7/100] - Train Loss: 1.7753 - Train Accuracy: 32.5200\n",
            "Epoch [8/100] - Train Loss: 1.7393 - Train Accuracy: 33.7700\n",
            "Epoch [9/100] - Train Loss: 1.7123 - Train Accuracy: 34.5220\n",
            "Epoch [10/100] - Train Loss: 1.6770 - Train Accuracy: 35.6640\n",
            "Epoch [11/100] - Train Loss: 1.6459 - Train Accuracy: 36.6560\n",
            "Epoch [12/100] - Train Loss: 1.6048 - Train Accuracy: 37.7460\n",
            "Epoch [13/100] - Train Loss: 1.5714 - Train Accuracy: 38.6920\n",
            "Epoch [14/100] - Train Loss: 1.5392 - Train Accuracy: 39.5620\n",
            "Epoch [15/100] - Train Loss: 1.4993 - Train Accuracy: 40.6620\n",
            "Epoch [16/100] - Train Loss: 1.4607 - Train Accuracy: 41.9640\n",
            "Epoch [17/100] - Train Loss: 1.4241 - Train Accuracy: 43.1600\n",
            "Epoch [18/100] - Train Loss: 1.3843 - Train Accuracy: 44.3140\n",
            "Epoch [19/100] - Train Loss: 1.3451 - Train Accuracy: 45.4880\n",
            "Epoch [20/100] - Train Loss: 1.3075 - Train Accuracy: 46.6680\n",
            "Epoch [21/100] - Train Loss: 1.2644 - Train Accuracy: 48.0920\n",
            "Epoch [22/100] - Train Loss: 1.2213 - Train Accuracy: 49.7120\n",
            "Epoch [23/100] - Train Loss: 1.1926 - Train Accuracy: 50.4920\n",
            "Epoch [24/100] - Train Loss: 1.1541 - Train Accuracy: 52.1580\n",
            "Epoch [25/100] - Train Loss: 1.1113 - Train Accuracy: 53.5060\n",
            "Epoch [26/100] - Train Loss: 1.0821 - Train Accuracy: 54.7080\n",
            "Epoch [27/100] - Train Loss: 1.0453 - Train Accuracy: 56.3780\n",
            "Epoch [28/100] - Train Loss: 1.0043 - Train Accuracy: 58.0160\n",
            "Epoch [29/100] - Train Loss: 0.9870 - Train Accuracy: 58.4440\n",
            "Epoch [30/100] - Train Loss: 0.9493 - Train Accuracy: 60.1420\n",
            "Epoch [31/100] - Train Loss: 0.9125 - Train Accuracy: 61.8560\n",
            "Epoch [32/100] - Train Loss: 0.8893 - Train Accuracy: 62.6640\n",
            "Epoch [33/100] - Train Loss: 0.8599 - Train Accuracy: 64.1160\n",
            "Epoch [34/100] - Train Loss: 0.8382 - Train Accuracy: 64.6700\n",
            "Epoch [35/100] - Train Loss: 0.8057 - Train Accuracy: 66.1220\n",
            "Epoch [36/100] - Train Loss: 0.7771 - Train Accuracy: 67.3660\n",
            "Epoch [37/100] - Train Loss: 0.7653 - Train Accuracy: 67.9500\n",
            "Epoch [38/100] - Train Loss: 0.7300 - Train Accuracy: 69.3340\n",
            "Epoch [39/100] - Train Loss: 0.7204 - Train Accuracy: 69.7140\n",
            "Epoch [40/100] - Train Loss: 0.6986 - Train Accuracy: 70.8440\n",
            "Epoch [41/100] - Train Loss: 0.6776 - Train Accuracy: 71.4940\n",
            "Epoch [42/100] - Train Loss: 0.6359 - Train Accuracy: 73.3820\n",
            "Epoch [43/100] - Train Loss: 0.6335 - Train Accuracy: 73.4060\n",
            "Epoch [44/100] - Train Loss: 0.6229 - Train Accuracy: 74.0300\n",
            "Epoch [45/100] - Train Loss: 0.5938 - Train Accuracy: 75.2840\n",
            "Epoch [46/100] - Train Loss: 0.5688 - Train Accuracy: 76.2680\n",
            "Epoch [47/100] - Train Loss: 0.5648 - Train Accuracy: 76.3560\n",
            "Epoch [48/100] - Train Loss: 0.5408 - Train Accuracy: 77.3060\n",
            "Epoch [49/100] - Train Loss: 0.5235 - Train Accuracy: 78.1060\n",
            "Epoch [50/100] - Train Loss: 0.5054 - Train Accuracy: 79.1260\n",
            "Epoch [51/100] - Train Loss: 0.5055 - Train Accuracy: 78.9340\n",
            "Epoch [52/100] - Train Loss: 0.4860 - Train Accuracy: 79.6160\n",
            "Epoch [53/100] - Train Loss: 0.4553 - Train Accuracy: 81.0020\n",
            "Epoch [54/100] - Train Loss: 0.4512 - Train Accuracy: 80.9740\n",
            "Epoch [55/100] - Train Loss: 0.4371 - Train Accuracy: 81.8000\n",
            "Epoch [56/100] - Train Loss: 0.4251 - Train Accuracy: 82.2660\n",
            "Epoch [57/100] - Train Loss: 0.4232 - Train Accuracy: 82.4040\n",
            "Epoch [58/100] - Train Loss: 0.4134 - Train Accuracy: 82.6840\n",
            "Epoch [59/100] - Train Loss: 0.4073 - Train Accuracy: 83.1300\n",
            "Epoch [60/100] - Train Loss: 0.3793 - Train Accuracy: 84.3240\n",
            "Epoch [61/100] - Train Loss: 0.3690 - Train Accuracy: 84.5140\n",
            "Epoch [62/100] - Train Loss: 0.3664 - Train Accuracy: 84.7220\n",
            "Epoch [63/100] - Train Loss: 0.3463 - Train Accuracy: 85.5780\n",
            "Epoch [64/100] - Train Loss: 0.3549 - Train Accuracy: 85.2600\n",
            "Epoch [65/100] - Train Loss: 0.3333 - Train Accuracy: 86.1380\n",
            "Epoch [66/100] - Train Loss: 0.3430 - Train Accuracy: 85.7480\n",
            "Epoch [67/100] - Train Loss: 0.3186 - Train Accuracy: 86.7520\n",
            "Epoch [68/100] - Train Loss: 0.3057 - Train Accuracy: 87.1860\n",
            "Epoch [69/100] - Train Loss: 0.2987 - Train Accuracy: 87.6360\n",
            "Epoch [70/100] - Train Loss: 0.2851 - Train Accuracy: 88.0060\n",
            "Epoch [71/100] - Train Loss: 0.2932 - Train Accuracy: 87.8960\n",
            "Epoch [72/100] - Train Loss: 0.2888 - Train Accuracy: 88.0780\n",
            "Epoch [73/100] - Train Loss: 0.2754 - Train Accuracy: 88.5000\n",
            "Epoch [74/100] - Train Loss: 0.2571 - Train Accuracy: 89.2240\n",
            "Epoch [75/100] - Train Loss: 0.2574 - Train Accuracy: 89.1880\n",
            "Epoch [76/100] - Train Loss: 0.2527 - Train Accuracy: 89.4120\n",
            "Epoch [77/100] - Train Loss: 0.2574 - Train Accuracy: 89.2520\n",
            "Epoch [78/100] - Train Loss: 0.2445 - Train Accuracy: 89.8560\n",
            "Epoch [79/100] - Train Loss: 0.2338 - Train Accuracy: 90.2560\n",
            "Epoch [80/100] - Train Loss: 0.2311 - Train Accuracy: 90.2980\n",
            "Epoch [81/100] - Train Loss: 0.2156 - Train Accuracy: 91.1040\n",
            "Epoch [82/100] - Train Loss: 0.2245 - Train Accuracy: 90.7200\n",
            "Epoch [83/100] - Train Loss: 0.2236 - Train Accuracy: 90.8020\n",
            "Epoch [84/100] - Train Loss: 0.2167 - Train Accuracy: 90.9180\n",
            "Epoch [85/100] - Train Loss: 0.2143 - Train Accuracy: 91.0500\n",
            "Epoch [86/100] - Train Loss: 0.2031 - Train Accuracy: 91.5600\n",
            "Epoch [87/100] - Train Loss: 0.2041 - Train Accuracy: 91.5880\n",
            "Epoch [88/100] - Train Loss: 0.2030 - Train Accuracy: 91.7240\n",
            "Epoch [89/100] - Train Loss: 0.2025 - Train Accuracy: 91.6840\n",
            "Epoch [90/100] - Train Loss: 0.1916 - Train Accuracy: 92.0320\n",
            "Epoch [91/100] - Train Loss: 0.1724 - Train Accuracy: 92.9040\n",
            "Epoch [92/100] - Train Loss: 0.1642 - Train Accuracy: 93.2540\n",
            "Epoch [93/100] - Train Loss: 0.1668 - Train Accuracy: 93.0920\n",
            "Epoch [94/100] - Train Loss: 0.1713 - Train Accuracy: 92.8960\n",
            "Epoch [95/100] - Train Loss: 0.1631 - Train Accuracy: 93.2420\n",
            "Epoch [96/100] - Train Loss: 0.1708 - Train Accuracy: 93.0280\n",
            "Epoch [97/100] - Train Loss: 0.1703 - Train Accuracy: 93.0200\n",
            "Epoch [98/100] - Train Loss: 0.1584 - Train Accuracy: 93.4620\n",
            "Epoch [99/100] - Train Loss: 0.1555 - Train Accuracy: 93.5640\n",
            "Epoch [100/100] - Train Loss: 0.1470 - Train Accuracy: 93.9360\n"
          ]
        }
      ],
      "source": [
        "##############################################################################\n",
        "# Load a new resnet model for adversarial training                           #\n",
        "# Train the model on perturbed images from                                   #\n",
        "# untargeted FGSM attack with epsilon = 8/255 on train dataset               #\n",
        "# Also use the following setup for training the model                        #\n",
        "##############################################################################\n",
        "\n",
        "adv_model = resnet(len(classes)).to(device)\n",
        "adv_model.to(device)\n",
        "\n",
        "learning_rate = 0.01\n",
        "criterion = nn.CrossEntropyLoss()\n",
        "optimizer = optim.SGD(adv_model.parameters(), lr=learning_rate, momentum=0.9)\n",
        "epochs = 100\n",
        "\n",
        "\n",
        "fgsm = FGSM(adv_model, eps=8/255)\n",
        "for epoch in range(epochs):\n",
        "    train_loss, train_acc = train_epoch_adversarial(adv_model, criterion, optimizer, trainloader, fgsm)\n",
        "    print(f'Epoch [{epoch+1}/{epochs}] - '\n",
        "          f'Train Loss: {train_loss:.4f} - '\n",
        "          f'Train Accuracy: {train_acc:.4f}')\n",
        "\n",
        "################################ End #########################################"
      ]
    },
    {
      "cell_type": "code",
      "execution_count": null,
      "metadata": {
        "id": "ePszFdal89Xf",
        "colab": {
          "base_uri": "https://localhost:8080/"
        },
        "outputId": "cd9dd7e2-6bc7-4349-f694-3fccd5c14db3"
      },
      "outputs": [
        {
          "output_type": "stream",
          "name": "stdout",
          "text": [
            "Test Loss: 2.4909 - Test Accuracy: 60.7800\n"
          ]
        },
        {
          "output_type": "stream",
          "name": "stderr",
          "text": [
            "/usr/local/lib/python3.10/dist-packages/torch/nn/modules/conv.py:456: UserWarning: Plan failed with a cudnnException: CUDNN_BACKEND_EXECUTION_PLAN_DESCRIPTOR: cudnnFinalize Descriptor Failed cudnn_status: CUDNN_STATUS_NOT_SUPPORTED (Triggered internally at ../aten/src/ATen/native/cudnn/Conv_v8.cpp:919.)\n",
            "  return F.conv2d(input, weight, bias, self.stride,\n"
          ]
        }
      ],
      "source": [
        "##############################################################################\n",
        "# Evaluate the new model on the test dataset                                 #\n",
        "##############################################################################\n",
        "\n",
        "test_loss, test_acc = eval_epoch(adv_model, criterion, testloader)\n",
        "print(f'Test Loss: {test_loss:.4f} - Test Accuracy: {test_acc:.4f}')\n",
        "\n",
        "################################ End #########################################"
      ]
    },
    {
      "cell_type": "code",
      "execution_count": null,
      "metadata": {
        "id": "dPMrIazq89Xg",
        "colab": {
          "base_uri": "https://localhost:8080/"
        },
        "outputId": "dde52dd8-3485-4773-e63e-fe922b378cc0"
      },
      "outputs": [
        {
          "output_type": "stream",
          "name": "stderr",
          "text": [
            "100%|██████████| 10000/10000 [01:42<00:00, 97.93it/s] "
          ]
        },
        {
          "output_type": "stream",
          "name": "stdout",
          "text": [
            "\n",
            "Test Accuracy: 0.2395\n"
          ]
        },
        {
          "output_type": "stream",
          "name": "stderr",
          "text": [
            "\n"
          ]
        }
      ],
      "source": [
        "##############################################################################\n",
        "# Run FGSM attack on the adversarially trained model with epsilon = 8/255    #\n",
        "##############################################################################\n",
        "\n",
        "fgsm = FGSM(adv_model, eps=8/255)\n",
        "acc = eval_attack(adv_model, testloader_attack, fgsm)\n",
        "\n",
        "print(f\"\\nTest Accuracy: {acc}\")\n",
        "################################ End #########################################"
      ]
    },
    {
      "cell_type": "code",
      "source": [
        "# Save model\n",
        "adv_model.eval()\n",
        "model_name = \"resnet18_adv.pth\"\n",
        "model_PATH = data_path + model_name\n",
        "torch.save(adv_model.state_dict(), model_PATH)"
      ],
      "metadata": {
        "id": "OEAc90QVvEp3"
      },
      "execution_count": null,
      "outputs": []
    },
    {
      "cell_type": "code",
      "source": [
        "adv_model = resnet(len(classes)).to(device)\n",
        "\n",
        "model_path = data_path + \"resnet18_adv.pth\"\n",
        "adv_model.load_state_dict(torch.load(model_path))"
      ],
      "metadata": {
        "colab": {
          "base_uri": "https://localhost:8080/"
        },
        "id": "w5JXRwbeXzQ4",
        "outputId": "fe24363e-1793-4d9c-f96d-8498fbdb110b"
      },
      "execution_count": 24,
      "outputs": [
        {
          "output_type": "execute_result",
          "data": {
            "text/plain": [
              "<All keys matched successfully>"
            ]
          },
          "metadata": {},
          "execution_count": 24
        }
      ]
    },
    {
      "cell_type": "code",
      "execution_count": 25,
      "metadata": {
        "id": "SVARgSMn89Xh",
        "colab": {
          "base_uri": "https://localhost:8080/"
        },
        "outputId": "b48e7bc3-cb99-48cd-c748-f9ba8ea86f67"
      },
      "outputs": [
        {
          "output_type": "stream",
          "name": "stderr",
          "text": [
            "100%|██████████| 10000/10000 [04:00<00:00, 41.61it/s]"
          ]
        },
        {
          "output_type": "stream",
          "name": "stdout",
          "text": [
            "\n",
            "k=4 -------- Test Accuracy: 0.572\n"
          ]
        },
        {
          "output_type": "stream",
          "name": "stderr",
          "text": [
            "\n"
          ]
        }
      ],
      "source": [
        "##############################################################################\n",
        "#  Run PGD attack on the adversarially trained model with k=4                #\n",
        "##############################################################################\n",
        "\n",
        "k=4\n",
        "pgd = LinfPGDAttack(adv_model, k=k)\n",
        "acc = eval_attack(adv_model, testloader_attack, pgd)\n",
        "\n",
        "print(f\"\\nk={k} -------- Test Accuracy: {acc}\")\n",
        "\n",
        "\n",
        "################################ End #########################################"
      ]
    },
    {
      "cell_type": "markdown",
      "metadata": {
        "id": "oZQpiZ9B89Xi"
      },
      "source": [
        "Answer the following questions:\n",
        "- What happened to the accuracy of the adversarially trained model?      \n",
        "\n",
        "Adversarially trained models often exhibit slightly lower accuracy on non-perturbed images compared to models trained without adversarial images. This reduction in accuracy is due to the regularization effect of adversarial training, which prioritizes robustness and occasionally compromises performance on non-perturbed data.     \n",
        "\n",
        "Adversarially trained models typically achieve higher accuracy on adversarial images, especially those crafted using the same method employed during training. This is because the adversarial training process equips the model with the ability to resist specific types of adversarial perturbations.           \n",
        "\n",
        "- What do you conclude from the result of the FGSM attack on the adversarially trained model?       \n",
        "\n",
        "adversarially trained model demonstrates better accuracy on FGSM-generated adversarial examples compared to a normal model, it signifies that the adversarial training has effectively increased the model's resistance to this type of attack.        \n",
        "\n",
        "- What do you conclude from the result of the PGD attack on the adversarially trained model?       \n",
        "\n",
        "Similar to the FGSM results, this indicates that adversarial training has effectively boosted the model's robustness against PGD attack. However, because PGD introduces less noise than FGSM, the increase in accuracy on PGD attack was greater than the increase observed on FGSM attack.      \n",
        "\n",
        "- What is you final conclusion?        \n",
        "\n",
        "Adversarial training enhances a model's robustness against specific adversarial attacks at the cost of slightly reduced accuracy on non-perturbed images. This trade-off is evident as adversarially trained models show higher accuracy on adversarial examples, particularly those generated by methods used during training, such as FGSM and PGD. The improved performance against FGSM and PGD attacks highlights the effectiveness of adversarial training in fortifying the model against these perturbations. Notably, the model's increased accuracy on PGD examples, which involve less noise than FGSM, further underscores the success of adversarial training in enhancing robustness. Overall, while adversarial training may slightly compromise performance on clean data, it significantly strengthens the model's defense against adversarial attacks, making it a valuable approach for improving model security and reliability."
      ]
    }
  ],
  "metadata": {
    "accelerator": "GPU",
    "colab": {
      "collapsed_sections": [
        "NQBvFw5F89Ws",
        "1dbelgJe89XW"
      ],
      "gpuType": "T4",
      "provenance": []
    },
    "kernelspec": {
      "display_name": "Python 3",
      "name": "python3"
    },
    "language_info": {
      "name": "python"
    }
  },
  "nbformat": 4,
  "nbformat_minor": 0
}